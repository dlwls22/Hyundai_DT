{
 "cells": [
  {
   "cell_type": "markdown",
   "metadata": {},
   "source": [
    "## Env"
   ]
  },
  {
   "cell_type": "code",
   "execution_count": null,
   "metadata": {},
   "outputs": [],
   "source": [
    "import pandas as pd\n",
    "import numpy as np\n",
    "import matplotlib\n",
    "import matplotlib.pyplot as plt\n",
    "import seaborn as sns\n",
    "import missingno as ms\n",
    "import xgboost as xgb\n",
    "import bisect\n",
    "\n",
    "from scipy import stats\n",
    "from tqdm import tqdm\n",
    "from scipy.stats import skew, kurtosis\n",
    "from sklearn.preprocessing import StandardScaler, MinMaxScaler, LabelEncoder\n",
    "from sklearn.metrics import mean_absolute_error\n",
    "from sklearn.model_selection import train_test_split, KFold\n",
    "from sklearn.ensemble import RandomForestRegressor"
   ]
  },
  {
   "cell_type": "markdown",
   "metadata": {},
   "source": [
    "| 항목 | 설명     |\n",
    "|-----|----------|\n",
    "| X1  | 작업번호 |\n",
    "| X2  | 마킹길이 |\n",
    "| X3  | 절단길이 |\n",
    "| X4  | 철판두께 |\n",
    "| X5  | 철판재질 |\n",
    "| X6  | 절단갯수 |\n",
    "| X7  | 작업장   |\n",
    "| X8  | 작업자   |\n",
    "| Y1  | 마킹시간 |\n",
    "| Y2  | 절단시간 |\n"
   ]
  },
  {
   "cell_type": "code",
   "execution_count": null,
   "metadata": {},
   "outputs": [],
   "source": [
    "matplotlib.rcParams['font.family'] = 'Malgun Gothic'\n",
    "matplotlib.rcParams['axes.unicode_minus'] = False"
   ]
  },
  {
   "cell_type": "code",
   "execution_count": null,
   "metadata": {},
   "outputs": [],
   "source": [
    "train = pd.read_csv(r'C:\\Users\\dlwks\\OneDrive\\바탕 화면\\VSCode\\HD_CNC\\train.csv')\n",
    "test = pd.read_csv(r'C:\\Users\\dlwks\\OneDrive\\바탕 화면\\VSCode\\HD_CNC\\test.csv')\n",
    "\n",
    "display(train.head())\n",
    "display(test.head())"
   ]
  },
  {
   "cell_type": "markdown",
   "metadata": {},
   "source": [
    "## Preprocessing & EDA"
   ]
  },
  {
   "cell_type": "code",
   "execution_count": null,
   "metadata": {},
   "outputs": [],
   "source": [
    "categorical_features = ['X5', 'X8']\n",
    "encoders = {}\n",
    "\n",
    "for feature in tqdm(categorical_features, desc=\"Encoding features\"):\n",
    "    le = LabelEncoder()\n",
    "    train[feature] = le.fit_transform(train[feature].astype(str))\n",
    "    le_classes_set = set(le.classes_)\n",
    "    test[feature] = test[feature].map(lambda s: '-1' if s not in le_classes_set else s)\n",
    "    le_classes = le.classes_.tolist()\n",
    "    bisect.insort_left(le_classes, '-1')\n",
    "    le.classes_ = np.array(le_classes)\n",
    "    test[feature] = le.transform(test[feature].astype(str))\n",
    "    encoders[feature] = le"
   ]
  },
  {
   "cell_type": "code",
   "execution_count": null,
   "metadata": {},
   "outputs": [],
   "source": [
    "display(train.info())\n",
    "display(test.info())"
   ]
  },
  {
   "cell_type": "code",
   "execution_count": null,
   "metadata": {},
   "outputs": [],
   "source": [
    "train.head()"
   ]
  },
  {
   "cell_type": "code",
   "execution_count": null,
   "metadata": {},
   "outputs": [],
   "source": [
    "display(train)\n",
    "\n",
    "test.drop(columns = ['Id'], inplace = True)\n",
    "display(test)"
   ]
  },
  {
   "cell_type": "code",
   "execution_count": null,
   "metadata": {},
   "outputs": [],
   "source": [
    "display(train.describe())\n",
    "display(test.describe())"
   ]
  },
  {
   "cell_type": "code",
   "execution_count": null,
   "metadata": {},
   "outputs": [],
   "source": [
    "ms.matrix(train)\n",
    "plt.show()"
   ]
  },
  {
   "cell_type": "code",
   "execution_count": null,
   "metadata": {},
   "outputs": [],
   "source": [
    "plt.figure(figsize = (10, 10))\n",
    "sns.heatmap(train.corr(), vmax = 1, vmin = -1, annot = True)"
   ]
  },
  {
   "cell_type": "code",
   "execution_count": null,
   "metadata": {},
   "outputs": [],
   "source": [
    "# sns.pairplot(train)"
   ]
  },
  {
   "cell_type": "code",
   "execution_count": null,
   "metadata": {},
   "outputs": [],
   "source": [
    "features = train.columns\n",
    "numeric_features = train.select_dtypes('number').columns\n",
    "categorical_features = train.select_dtypes('object').columns\n",
    "for i in numeric_features:\n",
    "  plt.figure(figsize = (15, 5))\n",
    "  plt.tight_layout()\n",
    "  f, (ax_box, ax_hist) = plt.subplots(2, sharex = True)\n",
    "  sns.boxplot(train[i], ax = ax_box, linewidth = 0.5)\n",
    "  sns.histplot(train[i], ax = ax_hist, bins = 10, kde = True)"
   ]
  },
  {
   "cell_type": "code",
   "execution_count": null,
   "metadata": {},
   "outputs": [],
   "source": [
    "cols_numeric = train.describe().columns\n",
    "\n",
    "print(f'numeric cols : {len(cols_numeric)}')\n",
    "print(f'{cols_numeric}')\n",
    "\n",
    "fig, ax = plt.subplots(4, 3, figsize=(15, 5))\n",
    "\n",
    "for i in range(len(cols_numeric)):\n",
    "\n",
    "    x = i // 3    \n",
    "    y = i % 3\n",
    "    \n",
    "    sns.histplot(x=cols_numeric[i], data = train, bins = 75, ax = ax[x,y])\n",
    "    ax[x, y].set_title(cols_numeric[i])\n",
    "\n",
    "plt.suptitle('Numerical Variance distribtion\\n\\n')\n",
    "plt.tight_layout()\n",
    "plt.show()"
   ]
  },
  {
   "cell_type": "code",
   "execution_count": null,
   "metadata": {},
   "outputs": [],
   "source": [
    "drop_indices = train[(train['Y1'] >= 2500) |\n",
    "                     (train['Y2'] >= 20000) |\n",
    "                     (train['X2'] >= 500) |\n",
    "                     (train['X4'] > 40) |\n",
    "                     (train['X6'] >= 265)].index\n",
    "\n",
    "train = train.drop(drop_indices)"
   ]
  },
  {
   "cell_type": "code",
   "execution_count": null,
   "metadata": {},
   "outputs": [],
   "source": [
    "train = train[(train['Y1'] > 150) & (train['Y1'] <= 67000) & (train['Y2'] > 150) & (train['Y2'] <= 67000)]"
   ]
  },
  {
   "cell_type": "code",
   "execution_count": null,
   "metadata": {},
   "outputs": [],
   "source": [
    "data = train.groupby('X7').mean().reset_index()\n",
    "\n",
    "fig, axes = plt.subplots(3, 3, figsize=(15, 5))\n",
    "\n",
    "sns.barplot(x = 'X7', y = 'X1', data = data, ax = axes[0, 0])\n",
    "axes[0, 0].set_title('X1')\n",
    "\n",
    "sns.barplot(x = 'X7', y = 'X2', data = data, ax = axes[0, 1])\n",
    "axes[0, 1].set_title('X2')\n",
    "\n",
    "sns.barplot(x = 'X7', y = 'X3', data = data, ax = axes[0, 2])\n",
    "axes[0, 2].set_title('X3')\n",
    "\n",
    "sns.barplot(x = 'X7', y = 'X4', data = data, ax = axes[1, 0])\n",
    "axes[1, 0].set_title('X4')\n",
    "\n",
    "sns.barplot(x = 'X7', y = 'X5', data = data, ax = axes[1, 1])\n",
    "axes[1, 1].set_title('X5')\n",
    "\n",
    "sns.barplot(x = 'X7', y = 'X6', data = data, ax = axes[1, 2])\n",
    "axes[1, 2].set_title('X6')\n",
    "\n",
    "sns.barplot(x = 'X7', y = 'X8', data= data, ax= axes[2, 0])\n",
    "axes[2, 0].set_title('X8')\n",
    "\n",
    "sns.barplot(x = 'X7', y = 'Y1', data = data, ax = axes[2, 1])\n",
    "axes[2, 1].set_title('Y1')\n",
    "\n",
    "sns.barplot(x = 'X7', y = 'Y2', data = data, ax = axes[2, 2])\n",
    "axes[2, 2].set_title('Y2')\n",
    "\n",
    "plt.tight_layout()\n",
    "plt.show()"
   ]
  },
  {
   "cell_type": "code",
   "execution_count": null,
   "metadata": {},
   "outputs": [],
   "source": [
    "mmtime = train.groupby('X5')['Y1'].mean()\n",
    "mctime = train.groupby('X5')['Y2'].mean()\n",
    "\n",
    "wmtime = train.groupby('X7')['Y1'].mean()\n",
    "wctime = train.groupby('X7')['Y2'].mean()\n",
    "\n",
    "manmtime = train.groupby('X8')['Y1'].mean()\n",
    "manctime = train.groupby('X8')['Y2'].mean()\n",
    "\n",
    "train['X5_mmtime'] = train['X5'].map(mmtime)\n",
    "train['X5_mctime'] = train['X5'].map(mctime)\n",
    "\n",
    "train['X7_wmtime'] = train['X7'].map(wmtime)\n",
    "train['X7_wctime'] = train['X7'].map(wctime)\n",
    "\n",
    "train['X8_manmtime'] = train['X8'].map(manmtime)\n",
    "train['X8_manctime'] = train['X8'].map(manctime)\n",
    "\n",
    "test['X5_mmtime'] = test['X5'].map(mmtime)\n",
    "test['X5_mctime'] = test['X5'].map(mctime)\n",
    "\n",
    "test['X7_wmtime'] = test['X7'].map(wmtime)\n",
    "test['X7_wctime'] = test['X7'].map(wctime)\n",
    "\n",
    "test['X8_manmtime'] = test['X8'].map(manmtime)\n",
    "test['X8_manctime'] = test['X8'].map(manctime)"
   ]
  },
  {
   "cell_type": "code",
   "execution_count": null,
   "metadata": {},
   "outputs": [],
   "source": [
    "train['Velo_cutting'] = train['X3'] / train['X4']\n",
    "train['Velo_marking'] = train['X2'] / train['X4']\n",
    "\n",
    "test['Velo_cutting'] = test['X3'] / test['X4']\n",
    "test['Velo_marking'] = test['X2'] / test['X4']\n",
    "\n",
    "train['Feed_cutting'] = train['Velo_cutting'] * train['X6']\n",
    "train['Feed_marking'] = train['Velo_marking'] * train['X6']\n",
    "\n",
    "test['Feed_cutting'] = test['Velo_cutting'] * test['X6']\n",
    "test['Feed_marking'] = test['Velo_marking'] * test['X6']"
   ]
  },
  {
   "cell_type": "code",
   "execution_count": null,
   "metadata": {},
   "outputs": [],
   "source": [
    "sns.scatterplot(x = train['X2'], y = train['X3'], hue = train['X6'].astype('category'), legend = None)"
   ]
  },
  {
   "cell_type": "code",
   "execution_count": null,
   "metadata": {},
   "outputs": [],
   "source": [
    "bins = [0, 15, 40, 70, 95, 110, float('inf')]\n",
    "\n",
    "labels = [0, 1, 2, 3, 4, 5]\n",
    "\n",
    "train['X6_category'] = pd.cut(train['X6'], bins=bins, labels=labels, include_lowest=True)\n",
    "test['X6_category'] = pd.cut(test['X6'], bins=bins, labels=labels, include_lowest=True)\n",
    "\n",
    "train.drop(columns=['X6'], inplace=True)\n",
    "test.drop(columns=['X6'], inplace=True)\n",
    "\n",
    "sns.scatterplot(x=train['X2'], y=train['X3'], hue=train['X6_category'].astype('category'))"
   ]
  },
  {
   "cell_type": "code",
   "execution_count": null,
   "metadata": {},
   "outputs": [],
   "source": [
    "plt.figure(figsize = (10, 5))\n",
    "plt.subplot(1, 3, 1)\n",
    "sns.scatterplot(x = 'X3', y = 'Y2', hue = 'X2', data = train)\n",
    "\n",
    "plt.subplot(1, 3, 2)\n",
    "sns.scatterplot(x = 'X3', y = 'Y1', hue = 'X2', data = train)\n",
    "\n",
    "plt.subplot(1, 3, 3)\n",
    "sns.scatterplot(x = 'X2', y = 'Y1', hue = 'X3', data = train)\n",
    "\n",
    "plt.tight_layout()\n",
    "plt.show()"
   ]
  },
  {
   "cell_type": "code",
   "execution_count": null,
   "metadata": {},
   "outputs": [],
   "source": [
    "# def remove_outliers(df, col_name):\n",
    "#     uppper_bound = df[col_name].mean() + 3 * df[col_name].std()\n",
    "#     lower_bound = df[col_name].mean() - 3 * df[col_name].std()\n",
    "\n",
    "#     print(f\"평균: {df[col_name].mean()}, 표준편차: {df[col_name].std()}\")\n",
    "\n",
    "#     return df[(df[col_name] < uppper_bound) & (df[col_name] > lower_bound)]\n",
    "\n",
    "# columns_to_process = ['X2', 'X3', 'X4']\n",
    "\n",
    "# for col in columns_to_process:\n",
    "#     train = remove_outliers(train, col)"
   ]
  },
  {
   "cell_type": "code",
   "execution_count": null,
   "metadata": {},
   "outputs": [],
   "source": [
    "plt.figure(figsize = (10, 5))\n",
    "plt.subplot(1, 3, 1)\n",
    "sns.scatterplot(x = 'X3', y = 'Y2', hue = 'X2', data = train)\n",
    "\n",
    "plt.subplot(1, 3, 2)\n",
    "sns.scatterplot(x = 'X3', y = 'Y1', hue = 'X2', data = train)\n",
    "\n",
    "plt.subplot(1, 3, 3)\n",
    "sns.scatterplot(x = 'X2', y = 'Y1', hue = 'X3', data = train)\n",
    "\n",
    "plt.tight_layout()\n",
    "plt.show()"
   ]
  },
  {
   "cell_type": "code",
   "execution_count": null,
   "metadata": {},
   "outputs": [],
   "source": [
    "plt.figure(figsize = (12, 6))\n",
    "\n",
    "plt.subplot(1, 3, 1)\n",
    "train['Y1'].hist(bins = 100)\n",
    "plt.title('Original Data')\n",
    "\n",
    "plt.subplot(1, 3, 2)\n",
    "np.log1p(train['Y1']).hist(bins = 100)\n",
    "plt.title('Log Transform Data')\n",
    "\n",
    "plt.subplot(1, 3, 3)\n",
    "transformed_data, _ = stats.boxcox(train['Y1'] + 1)\n",
    "plt.hist(transformed_data, bins = 100)\n",
    "plt.title('Box-Cox Transform Data')\n",
    "\n",
    "plt.tight_layout()\n",
    "plt.show()"
   ]
  },
  {
   "cell_type": "code",
   "execution_count": null,
   "metadata": {},
   "outputs": [],
   "source": [
    "plt.figure(figsize = (12, 6))\n",
    "\n",
    "plt.subplot(1, 3, 1)\n",
    "train['Y2'].hist(bins = 100)\n",
    "plt.title('Original Data')\n",
    "\n",
    "plt.subplot(1, 3, 2)\n",
    "np.log1p(train['Y2']).hist(bins = 100)\n",
    "plt.title('Log Transform Data')\n",
    "\n",
    "plt.subplot(1, 3, 3)\n",
    "transformed_data, _ = stats.boxcox(train['Y2'] + 1)\n",
    "plt.hist(transformed_data, bins = 100)\n",
    "plt.title('Box-Cox Transform Data')\n",
    "\n",
    "plt.tight_layout()\n",
    "plt.show()"
   ]
  },
  {
   "cell_type": "code",
   "execution_count": null,
   "metadata": {},
   "outputs": [],
   "source": [
    "train_data1 = train[['X1', 'X2', 'X3', 'X4', 'X5', 'X6_category', 'X7', 'X8', 'X5_mmtime', 'X5_mctime', 'X7_wmtime', 'X7_wctime', 'X8_manmtime', 'X8_manctime', 'Velo_cutting' ,'Velo_marking', 'Feed_cutting', 'Feed_marking']]\n",
    "\n",
    "train_y1 = np.log1p(train['Y1'])\n",
    "train_y2 = np.log1p(train['Y2'])"
   ]
  },
  {
   "cell_type": "code",
   "execution_count": null,
   "metadata": {},
   "outputs": [],
   "source": [
    "plt.figure(figsize = (10, 10))\n",
    "sns.heatmap(train.corr(), vmax = 1, vmin = -1, annot = True)"
   ]
  },
  {
   "cell_type": "code",
   "execution_count": null,
   "metadata": {},
   "outputs": [],
   "source": [
    "def train_and_evaluate(model, model_name, X_train, y_train):\n",
    "    print(f'Model Tune for {model_name}.')\n",
    "    model.fit(X_train, y_train)\n",
    "    \n",
    "    feature_importances = model.feature_importances_\n",
    "    sorted_idx = feature_importances.argsort()\n",
    "\n",
    "    plt.figure(figsize=(10, len(X_train.columns)))\n",
    "    plt.title(f\"Feature Importances ({model_name})\")\n",
    "    plt.barh(range(X_train.shape[1]), feature_importances[sorted_idx], align='center')\n",
    "    plt.yticks(range(X_train.shape[1]), X_train.columns[sorted_idx])\n",
    "    plt.xlabel('Importance')\n",
    "    plt.show()\n",
    "    \n",
    "    return model, feature_importances\n",
    "\n",
    "X_train = train.drop(columns = ['X6_category','Y1', 'Y2'])\n",
    "Y_train = train[['Y1', 'Y2']]\n",
    "\n",
    "# Model Tune for XGB\n",
    "xgb_model, xgb_feature_importances = train_and_evaluate(xgb.XGBRegressor(), 'XGB', X_train, Y_train)"
   ]
  },
  {
   "cell_type": "code",
   "execution_count": null,
   "metadata": {},
   "outputs": [],
   "source": [
    "# threshold = 0.05\n",
    "# low_importance_features = X_train.columns[xgb_feature_importances < threshold]\n",
    "\n",
    "# train_data1 = train_data1.drop(columns = low_importance_features)\n",
    "# test = test.drop(columns = low_importance_features)"
   ]
  },
  {
   "cell_type": "code",
   "execution_count": null,
   "metadata": {},
   "outputs": [],
   "source": [
    "numeric_cols = ['X1', 'X2', 'X3', 'X4', 'X5', 'X6_category', 'X7', 'X8', 'X5_mmtime', 'X5_mctime', 'X7_wmtime', 'X7_wctime', 'X8_manmtime', 'X8_manctime', 'Velo_cutting' ,'Velo_marking', 'Feed_cutting', 'Feed_marking']\n",
    "\n",
    "#'X1', 'X2', 'X7', 'X5_mmtime', 'X5_mctime', 'X8_manmtime', 'X8_manctime' 삭제\n",
    "\n",
    "scaler = StandardScaler()\n",
    "\n",
    "train_data1[numeric_cols] = scaler.fit_transform(train_data1[numeric_cols])\n",
    "test[numeric_cols] = scaler.transform(test[numeric_cols])"
   ]
  },
  {
   "cell_type": "code",
   "execution_count": null,
   "metadata": {},
   "outputs": [],
   "source": [
    "xgb_y1 = xgb.XGBRegressor(eval_metric='mae',\n",
    "                          enable_categorical=True \n",
    "                          )\n",
    "\n",
    "X_train_reduced = train_data1.reset_index(drop=True)\n",
    "y_train = train_y1.reset_index(drop=True)\n",
    "\n",
    "kf = KFold(n_splits=5, shuffle=True, random_state=42)\n",
    "\n",
    "ensemble_predictions = []\n",
    "scores = []\n",
    "\n",
    "y_train = y_train.values\n",
    "\n",
    "for train_idx, val_idx in tqdm(kf.split(X_train_reduced), total=5, desc=\"Processing folds\"):\n",
    "    X_t, X_val = X_train_reduced.iloc[train_idx], X_train_reduced.iloc[val_idx]\n",
    "    y_t, y_val = y_train[train_idx], y_train[val_idx]\n",
    "\n",
    "    xgb_y1.fit(X_t, y_t, eval_set=[(X_val, y_val)], verbose=50)\n",
    "\n",
    "    val_pred = xgb_y1.predict(X_val)\n",
    "\n",
    "    scores.append(mean_absolute_error(y_val, val_pred))\n",
    "\n",
    "    test = test[train_data1.columns]\n",
    "\n",
    "    xgb_pred = xgb_y1.predict(test)\n",
    "    xgb_pred = np.where(xgb_pred < 0, 0, xgb_pred)\n",
    "\n",
    "    ensemble_predictions.append(xgb_pred)\n",
    "\n",
    "final_predictions_y1 = np.mean(ensemble_predictions, axis=0)\n",
    "\n",
    "print(\"Validation : MAE scores for each fold:\", scores)\n",
    "print(\"Validation : MAE:\", np.mean(scores))"
   ]
  },
  {
   "cell_type": "code",
   "execution_count": null,
   "metadata": {},
   "outputs": [],
   "source": [
    "xgb_y2 = xgb.XGBRegressor(eval_metric='mae',\n",
    "                          enable_categorical=True \n",
    "                          )\n",
    "\n",
    "X_train_reduced = train_data1.reset_index(drop=True)\n",
    "y_train = train_y2.reset_index(drop=True)\n",
    "\n",
    "kf = KFold(n_splits=5, shuffle=True, random_state=42)\n",
    "\n",
    "ensemble_predictions = []\n",
    "scores = []\n",
    "\n",
    "y_train = y_train.values\n",
    "\n",
    "for train_idx, val_idx in tqdm(kf.split(X_train_reduced), total=5, desc=\"Processing folds\"):\n",
    "    X_t, X_val = X_train_reduced.iloc[train_idx], X_train_reduced.iloc[val_idx]\n",
    "    y_t, y_val = y_train[train_idx], y_train[val_idx]\n",
    "\n",
    "    xgb_y2.fit(X_t, y_t, eval_set=[(X_val, y_val)], verbose=50)\n",
    "\n",
    "    val_pred = xgb_y2.predict(X_val)\n",
    "\n",
    "    scores.append(mean_absolute_error(y_val, val_pred))\n",
    "\n",
    "    xgb_pred = xgb_y2.predict(test)\n",
    "    xgb_pred = np.where(xgb_pred < 0, 0, xgb_pred)\n",
    "\n",
    "    ensemble_predictions.append(xgb_pred)\n",
    "\n",
    "final_predictions_y2 = np.mean(ensemble_predictions, axis=0)\n",
    "\n",
    "print(\"Validation : MAE scores for each fold:\", scores)\n",
    "print(\"Validation : MAE:\", np.mean(scores))"
   ]
  },
  {
   "cell_type": "code",
   "execution_count": null,
   "metadata": {},
   "outputs": [],
   "source": [
    "submit = pd.read_csv(r'C:\\Users\\dlwks\\OneDrive\\바탕 화면\\VSCode\\HD_CNC\\sample_submission.csv')\n",
    "\n",
    "submit.head()"
   ]
  },
  {
   "cell_type": "code",
   "execution_count": null,
   "metadata": {},
   "outputs": [],
   "source": [
    "final_predictions = (np.exp(final_predictions_y1) - 1) + (np.exp(final_predictions_y2) - 1)\n",
    "\n",
    "\n",
    "submit.iloc[:, 1] = final_predictions\n",
    "\n",
    "submit.to_csv('C:\\\\Users\\\\dlwks\\\\OneDrive\\\\바탕 화면\\\\VSCode\\\\HD_CNC\\\\1006_8.csv', index=False)"
   ]
  },
  {
   "cell_type": "code",
   "execution_count": null,
   "metadata": {},
   "outputs": [],
   "source": [
    "submit"
   ]
  },
  {
   "cell_type": "code",
   "execution_count": null,
   "metadata": {},
   "outputs": [],
   "source": []
  }
 ],
 "metadata": {
  "kernelspec": {
   "display_name": "Python 3",
   "language": "python",
   "name": "python3"
  },
  "language_info": {
   "codemirror_mode": {
    "name": "ipython",
    "version": 3
   },
   "file_extension": ".py",
   "mimetype": "text/x-python",
   "name": "python",
   "nbconvert_exporter": "python",
   "pygments_lexer": "ipython3",
   "version": "3.11.2"
  },
  "orig_nbformat": 4
 },
 "nbformat": 4,
 "nbformat_minor": 2
}
