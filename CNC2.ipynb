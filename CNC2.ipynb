{
 "cells": [
  {
   "cell_type": "code",
   "execution_count": 1,
   "metadata": {},
   "outputs": [],
   "source": [
    "import pandas as pd\n",
    "import numpy as np\n",
    "import matplotlib\n",
    "import matplotlib.pyplot as plt\n",
    "import seaborn as sns\n",
    "import missingno as ms\n",
    "import xgboost as xgb\n",
    "import bisect\n",
    "\n",
    "from scipy import stats\n",
    "from tqdm import tqdm\n",
    "from scipy.stats import skew, kurtosis\n",
    "from sklearn.preprocessing import StandardScaler, MinMaxScaler, LabelEncoder\n",
    "from sklearn.metrics import mean_absolute_error\n",
    "from sklearn.model_selection import train_test_split, KFold\n",
    "from catboost import CatBoostRegressor\n",
    "from sklearn.ensemble import VotingRegressor\n",
    "from sklearn.ensemble import RandomForestRegressor\n",
    "from sklearn.cluster import DBSCAN"
   ]
  },
  {
   "cell_type": "code",
   "execution_count": 2,
   "metadata": {},
   "outputs": [
    {
     "data": {
      "text/html": [
       "<div>\n",
       "<style scoped>\n",
       "    .dataframe tbody tr th:only-of-type {\n",
       "        vertical-align: middle;\n",
       "    }\n",
       "\n",
       "    .dataframe tbody tr th {\n",
       "        vertical-align: top;\n",
       "    }\n",
       "\n",
       "    .dataframe thead th {\n",
       "        text-align: right;\n",
       "    }\n",
       "</style>\n",
       "<table border=\"1\" class=\"dataframe\">\n",
       "  <thead>\n",
       "    <tr style=\"text-align: right;\">\n",
       "      <th></th>\n",
       "      <th>X2</th>\n",
       "      <th>X3</th>\n",
       "      <th>X4</th>\n",
       "      <th>X5</th>\n",
       "      <th>X6</th>\n",
       "      <th>X7</th>\n",
       "      <th>X8</th>\n",
       "      <th>Y1</th>\n",
       "      <th>Y2</th>\n",
       "    </tr>\n",
       "  </thead>\n",
       "  <tbody>\n",
       "    <tr>\n",
       "      <th>0</th>\n",
       "      <td>56.3</td>\n",
       "      <td>67.5</td>\n",
       "      <td>22.5</td>\n",
       "      <td>AH32</td>\n",
       "      <td>4</td>\n",
       "      <td>97</td>\n",
       "      <td>PL973</td>\n",
       "      <td>467</td>\n",
       "      <td>2241</td>\n",
       "    </tr>\n",
       "    <tr>\n",
       "      <th>1</th>\n",
       "      <td>115.0</td>\n",
       "      <td>67.0</td>\n",
       "      <td>13.0</td>\n",
       "      <td>AH32</td>\n",
       "      <td>2</td>\n",
       "      <td>27</td>\n",
       "      <td>PL271</td>\n",
       "      <td>1058</td>\n",
       "      <td>1163</td>\n",
       "    </tr>\n",
       "    <tr>\n",
       "      <th>2</th>\n",
       "      <td>59.2</td>\n",
       "      <td>44.6</td>\n",
       "      <td>18.0</td>\n",
       "      <td>AH32-TM</td>\n",
       "      <td>1</td>\n",
       "      <td>14</td>\n",
       "      <td>PL141</td>\n",
       "      <td>270</td>\n",
       "      <td>1094</td>\n",
       "    </tr>\n",
       "    <tr>\n",
       "      <th>3</th>\n",
       "      <td>52.1</td>\n",
       "      <td>97.4</td>\n",
       "      <td>15.0</td>\n",
       "      <td>A</td>\n",
       "      <td>17</td>\n",
       "      <td>24</td>\n",
       "      <td>PL242</td>\n",
       "      <td>391</td>\n",
       "      <td>2604</td>\n",
       "    </tr>\n",
       "    <tr>\n",
       "      <th>4</th>\n",
       "      <td>42.9</td>\n",
       "      <td>58.7</td>\n",
       "      <td>14.5</td>\n",
       "      <td>A</td>\n",
       "      <td>4</td>\n",
       "      <td>23</td>\n",
       "      <td>PL233</td>\n",
       "      <td>232</td>\n",
       "      <td>1564</td>\n",
       "    </tr>\n",
       "  </tbody>\n",
       "</table>\n",
       "</div>"
      ],
      "text/plain": [
       "      X2    X3    X4        X5  X6  X7     X8    Y1    Y2\n",
       "0   56.3  67.5  22.5  AH32       4  97  PL973   467  2241\n",
       "1  115.0  67.0  13.0  AH32       2  27  PL271  1058  1163\n",
       "2   59.2  44.6  18.0  AH32-TM    1  14  PL141   270  1094\n",
       "3   52.1  97.4  15.0  A         17  24  PL242   391  2604\n",
       "4   42.9  58.7  14.5  A          4  23  PL233   232  1564"
      ]
     },
     "metadata": {},
     "output_type": "display_data"
    },
    {
     "data": {
      "text/html": [
       "<div>\n",
       "<style scoped>\n",
       "    .dataframe tbody tr th:only-of-type {\n",
       "        vertical-align: middle;\n",
       "    }\n",
       "\n",
       "    .dataframe tbody tr th {\n",
       "        vertical-align: top;\n",
       "    }\n",
       "\n",
       "    .dataframe thead th {\n",
       "        text-align: right;\n",
       "    }\n",
       "</style>\n",
       "<table border=\"1\" class=\"dataframe\">\n",
       "  <thead>\n",
       "    <tr style=\"text-align: right;\">\n",
       "      <th></th>\n",
       "      <th>X2</th>\n",
       "      <th>X3</th>\n",
       "      <th>X4</th>\n",
       "      <th>X5</th>\n",
       "      <th>X6</th>\n",
       "      <th>X7</th>\n",
       "      <th>X8</th>\n",
       "    </tr>\n",
       "  </thead>\n",
       "  <tbody>\n",
       "    <tr>\n",
       "      <th>0</th>\n",
       "      <td>80.6</td>\n",
       "      <td>104.8</td>\n",
       "      <td>11.0</td>\n",
       "      <td>A</td>\n",
       "      <td>29</td>\n",
       "      <td>23</td>\n",
       "      <td>PL234</td>\n",
       "    </tr>\n",
       "    <tr>\n",
       "      <th>1</th>\n",
       "      <td>141.8</td>\n",
       "      <td>34.2</td>\n",
       "      <td>17.5</td>\n",
       "      <td>A</td>\n",
       "      <td>2</td>\n",
       "      <td>91</td>\n",
       "      <td>PL911</td>\n",
       "    </tr>\n",
       "    <tr>\n",
       "      <th>2</th>\n",
       "      <td>77.2</td>\n",
       "      <td>103.3</td>\n",
       "      <td>17.0</td>\n",
       "      <td>A</td>\n",
       "      <td>10</td>\n",
       "      <td>97</td>\n",
       "      <td>PL973</td>\n",
       "    </tr>\n",
       "    <tr>\n",
       "      <th>3</th>\n",
       "      <td>95.5</td>\n",
       "      <td>131.0</td>\n",
       "      <td>18.0</td>\n",
       "      <td>A</td>\n",
       "      <td>2</td>\n",
       "      <td>23</td>\n",
       "      <td>PL234</td>\n",
       "    </tr>\n",
       "    <tr>\n",
       "      <th>4</th>\n",
       "      <td>91.7</td>\n",
       "      <td>36.1</td>\n",
       "      <td>19.0</td>\n",
       "      <td>AH32</td>\n",
       "      <td>1</td>\n",
       "      <td>27</td>\n",
       "      <td>PL271</td>\n",
       "    </tr>\n",
       "  </tbody>\n",
       "</table>\n",
       "</div>"
      ],
      "text/plain": [
       "      X2     X3    X4        X5  X6  X7     X8\n",
       "0   80.6  104.8  11.0  A         29  23  PL234\n",
       "1  141.8   34.2  17.5  A          2  91  PL911\n",
       "2   77.2  103.3  17.0  A         10  97  PL973\n",
       "3   95.5  131.0  18.0  A          2  23  PL234\n",
       "4   91.7   36.1  19.0  AH32       1  27  PL271"
      ]
     },
     "metadata": {},
     "output_type": "display_data"
    }
   ],
   "source": [
    "train = pd.read_csv(r'C:\\Users\\dlwks\\OneDrive\\바탕 화면\\VSCode\\HD_CNC\\train.csv').drop(['X1'], axis=1)\n",
    "test = pd.read_csv(r'C:\\Users\\dlwks\\OneDrive\\바탕 화면\\VSCode\\HD_CNC\\test.csv').drop(['Id', 'X1'], axis=1)\n",
    "\n",
    "display(train.head())\n",
    "display(test.head())"
   ]
  },
  {
   "cell_type": "markdown",
   "metadata": {},
   "source": [
    "| 항목 | 설명     |\n",
    "|-----|----------|\n",
    "| X1  | 작업번호 |\n",
    "| X2  | 마킹길이 |\n",
    "| X3  | 절단길이 |\n",
    "| X4  | 철판두께 |\n",
    "| X5  | 철판재질 |\n",
    "| X6  | 절단갯수 |\n",
    "| X7  | 작업장   |\n",
    "| X8  | 작업자   |\n",
    "| Y1  | 마킹시간 |\n",
    "| Y2  | 절단시간 |"
   ]
  },
  {
   "cell_type": "code",
   "execution_count": 3,
   "metadata": {},
   "outputs": [
    {
     "name": "stdout",
     "output_type": "stream",
     "text": [
      "<class 'pandas.core.frame.DataFrame'>\n",
      "RangeIndex: 121754 entries, 0 to 121753\n",
      "Data columns (total 9 columns):\n",
      " #   Column  Non-Null Count   Dtype  \n",
      "---  ------  --------------   -----  \n",
      " 0   X2      121754 non-null  float64\n",
      " 1   X3      121754 non-null  float64\n",
      " 2   X4      121754 non-null  float64\n",
      " 3   X5      121754 non-null  object \n",
      " 4   X6      121754 non-null  int64  \n",
      " 5   X7      121754 non-null  int64  \n",
      " 6   X8      121754 non-null  object \n",
      " 7   Y1      121754 non-null  int64  \n",
      " 8   Y2      121754 non-null  int64  \n",
      "dtypes: float64(3), int64(4), object(2)\n",
      "memory usage: 8.4+ MB\n"
     ]
    }
   ],
   "source": [
    "train.info()"
   ]
  },
  {
   "cell_type": "code",
   "execution_count": 4,
   "metadata": {},
   "outputs": [
    {
     "data": {
      "text/html": [
       "<div>\n",
       "<style scoped>\n",
       "    .dataframe tbody tr th:only-of-type {\n",
       "        vertical-align: middle;\n",
       "    }\n",
       "\n",
       "    .dataframe tbody tr th {\n",
       "        vertical-align: top;\n",
       "    }\n",
       "\n",
       "    .dataframe thead th {\n",
       "        text-align: right;\n",
       "    }\n",
       "</style>\n",
       "<table border=\"1\" class=\"dataframe\">\n",
       "  <thead>\n",
       "    <tr style=\"text-align: right;\">\n",
       "      <th></th>\n",
       "      <th>X2</th>\n",
       "      <th>X3</th>\n",
       "      <th>X4</th>\n",
       "      <th>X6</th>\n",
       "      <th>X7</th>\n",
       "      <th>Y1</th>\n",
       "      <th>Y2</th>\n",
       "    </tr>\n",
       "  </thead>\n",
       "  <tbody>\n",
       "    <tr>\n",
       "      <th>count</th>\n",
       "      <td>121754.000000</td>\n",
       "      <td>121754.000000</td>\n",
       "      <td>121754.000000</td>\n",
       "      <td>121754.000000</td>\n",
       "      <td>121754.000000</td>\n",
       "      <td>1.217540e+05</td>\n",
       "      <td>121754.000000</td>\n",
       "    </tr>\n",
       "    <tr>\n",
       "      <th>mean</th>\n",
       "      <td>77.608615</td>\n",
       "      <td>73.875636</td>\n",
       "      <td>17.444897</td>\n",
       "      <td>13.630049</td>\n",
       "      <td>43.921152</td>\n",
       "      <td>8.971671e+02</td>\n",
       "      <td>2193.206638</td>\n",
       "    </tr>\n",
       "    <tr>\n",
       "      <th>std</th>\n",
       "      <td>48.006125</td>\n",
       "      <td>53.267359</td>\n",
       "      <td>4.498316</td>\n",
       "      <td>20.751914</td>\n",
       "      <td>32.509414</td>\n",
       "      <td>4.604704e+04</td>\n",
       "      <td>2299.585390</td>\n",
       "    </tr>\n",
       "    <tr>\n",
       "      <th>min</th>\n",
       "      <td>3.200000</td>\n",
       "      <td>1.800000</td>\n",
       "      <td>6.000000</td>\n",
       "      <td>1.000000</td>\n",
       "      <td>14.000000</td>\n",
       "      <td>0.000000e+00</td>\n",
       "      <td>0.000000</td>\n",
       "    </tr>\n",
       "    <tr>\n",
       "      <th>25%</th>\n",
       "      <td>45.200000</td>\n",
       "      <td>40.900000</td>\n",
       "      <td>14.500000</td>\n",
       "      <td>1.000000</td>\n",
       "      <td>22.000000</td>\n",
       "      <td>2.380000e+02</td>\n",
       "      <td>1064.000000</td>\n",
       "    </tr>\n",
       "    <tr>\n",
       "      <th>50%</th>\n",
       "      <td>68.100000</td>\n",
       "      <td>52.800000</td>\n",
       "      <td>17.000000</td>\n",
       "      <td>4.000000</td>\n",
       "      <td>25.000000</td>\n",
       "      <td>3.790000e+02</td>\n",
       "      <td>1593.000000</td>\n",
       "    </tr>\n",
       "    <tr>\n",
       "      <th>75%</th>\n",
       "      <td>98.300000</td>\n",
       "      <td>93.000000</td>\n",
       "      <td>20.000000</td>\n",
       "      <td>18.000000</td>\n",
       "      <td>91.000000</td>\n",
       "      <td>5.480000e+02</td>\n",
       "      <td>2778.000000</td>\n",
       "    </tr>\n",
       "    <tr>\n",
       "      <th>max</th>\n",
       "      <td>524.400000</td>\n",
       "      <td>621.300000</td>\n",
       "      <td>40.000000</td>\n",
       "      <td>416.000000</td>\n",
       "      <td>97.000000</td>\n",
       "      <td>6.157364e+06</td>\n",
       "      <td>348262.000000</td>\n",
       "    </tr>\n",
       "  </tbody>\n",
       "</table>\n",
       "</div>"
      ],
      "text/plain": [
       "                  X2             X3             X4             X6  \\\n",
       "count  121754.000000  121754.000000  121754.000000  121754.000000   \n",
       "mean       77.608615      73.875636      17.444897      13.630049   \n",
       "std        48.006125      53.267359       4.498316      20.751914   \n",
       "min         3.200000       1.800000       6.000000       1.000000   \n",
       "25%        45.200000      40.900000      14.500000       1.000000   \n",
       "50%        68.100000      52.800000      17.000000       4.000000   \n",
       "75%        98.300000      93.000000      20.000000      18.000000   \n",
       "max       524.400000     621.300000      40.000000     416.000000   \n",
       "\n",
       "                  X7            Y1             Y2  \n",
       "count  121754.000000  1.217540e+05  121754.000000  \n",
       "mean       43.921152  8.971671e+02    2193.206638  \n",
       "std        32.509414  4.604704e+04    2299.585390  \n",
       "min        14.000000  0.000000e+00       0.000000  \n",
       "25%        22.000000  2.380000e+02    1064.000000  \n",
       "50%        25.000000  3.790000e+02    1593.000000  \n",
       "75%        91.000000  5.480000e+02    2778.000000  \n",
       "max        97.000000  6.157364e+06  348262.000000  "
      ]
     },
     "execution_count": 4,
     "metadata": {},
     "output_type": "execute_result"
    }
   ],
   "source": [
    "train.describe()"
   ]
  },
  {
   "cell_type": "code",
   "execution_count": 5,
   "metadata": {},
   "outputs": [
    {
     "data": {
      "text/plain": [
       "array([22.5, 13. , 18. , 15. , 14.5, 14. , 21. , 19.5, 19. , 20.5, 16. ,\n",
       "       20. , 25. , 13.5, 11. , 12. , 28. , 30. , 15.5, 17. , 10. , 22. ,\n",
       "       21.5, 23. , 15.1, 34. , 27. , 18.5, 26. , 26.5, 12.5, 17.5, 24. ,\n",
       "       36. , 25.5, 23.5, 16.5,  9. ,  6. , 24.5, 32. ,  8.1, 35. , 10.5,\n",
       "       11.5,  7.1, 31. ,  7. ,  8. ,  9.5, 35.5, 28.5, 34.5, 27.5, 33. ,\n",
       "       29.5, 29. , 30.5, 20.1, 32.5, 33.5, 31.5, 40. ])"
      ]
     },
     "execution_count": 5,
     "metadata": {},
     "output_type": "execute_result"
    }
   ],
   "source": [
    "train['X4'].unique()"
   ]
  },
  {
   "cell_type": "markdown",
   "metadata": {},
   "source": [
    "# 특징 만들기\n"
   ]
  },
  {
   "cell_type": "code",
   "execution_count": 6,
   "metadata": {},
   "outputs": [],
   "source": [
    "# train['X8'] = train['X8'].str.extract(r'(PL|PS)')\n",
    "# test['X8'] = test['X8'].str.extract(r'(PL|PS)')"
   ]
  },
  {
   "cell_type": "code",
   "execution_count": 7,
   "metadata": {},
   "outputs": [],
   "source": [
    "# train['X8_encoded'] = (train['X8'] != 'PL').astype(int)\n",
    "# test['X8_encoded'] = (test['X8'] != 'PL').astype(int)\n",
    "\n",
    "# train = pd.get_dummies(train, columns=['X8_encoded'], prefix=['X8'])\n",
    "# test = pd.get_dummies(test, columns=['X8_encoded'], prefix=['X8'])\n",
    "\n",
    "# train[['X8_0', 'X8_1']] = train[['X8_0', 'X8_1']].astype(int)\n",
    "# test[['X8_0', 'X8_1']] = test[['X8_0', 'X8_1']].astype(int)"
   ]
  },
  {
   "cell_type": "code",
   "execution_count": 8,
   "metadata": {},
   "outputs": [],
   "source": [
    "mmtime = train.groupby('X5')['Y1'].mean()\n",
    "mctime = train.groupby('X5')['Y2'].mean()\n",
    "\n",
    "wmtime = train.groupby('X7')['Y1'].mean()\n",
    "wctime = train.groupby('X7')['Y2'].mean()\n",
    "\n",
    "manmtime = train.groupby('X8')['Y1'].mean()\n",
    "manctime = train.groupby('X8')['Y2'].mean()\n",
    "\n",
    "train['X5_mmtime'] = train['X5'].map(mmtime)\n",
    "train['X5_mctime'] = train['X5'].map(mctime)\n",
    "\n",
    "train['X7_wmtime'] = train['X7'].map(wmtime)\n",
    "train['X7_wctime'] = train['X7'].map(wctime)\n",
    "\n",
    "train['X8_manmtime'] = train['X8'].map(manmtime)\n",
    "train['X8_manctime'] = train['X8'].map(manctime)\n",
    "\n",
    "test['X5_mmtime'] = test['X5'].map(mmtime)\n",
    "test['X5_mctime'] = test['X5'].map(mctime)\n",
    "\n",
    "test['X7_wmtime'] = test['X7'].map(wmtime)\n",
    "test['X7_wctime'] = test['X7'].map(wctime)\n",
    "\n",
    "test['X8_manmtime'] = test['X8'].map(manmtime)\n",
    "test['X8_manctime'] = test['X8'].map(manctime)"
   ]
  },
  {
   "cell_type": "code",
   "execution_count": 9,
   "metadata": {},
   "outputs": [],
   "source": [
    "import re\n",
    "\n",
    "def convert_x5(value):\n",
    "    # -TM 이 포함되어 있으면 제거하고 숫자로 변환, 그렇지 않으면 그냥 숫자로 변환\n",
    "    if '-TM' in value:\n",
    "        value = value.replace('-TM', '')\n",
    "    match = re.search(r'\\d+', value)  # 정규표현식을 사용하여 숫자 추출\n",
    "    if match:\n",
    "        return int(match.group()) * 9.8\n",
    "    else:\n",
    "        return 235  # 숫자가 없는 경우 235로 설정\n",
    "\n",
    "# X5 열에 변환 함수 적용\n",
    "train['X5_numeric'] = train['X5'].apply(convert_x5)\n",
    "test['X5_numeric'] = test['X5'].apply(convert_x5)\n",
    "\n",
    "train.drop(columns = ['X5'], inplace = True)\n",
    "test.drop(columns = ['X5'], inplace = True)"
   ]
  },
  {
   "cell_type": "code",
   "execution_count": 10,
   "metadata": {},
   "outputs": [],
   "source": [
    "# def estimate_rotation_speed(X2, X3, X4, X5_numeric, X6):\n",
    "#     rotation_speed = X2 + (X3 / X4) * (X5_numeric / 10) * (X6 / 2)\n",
    "#     return rotation_speed\n",
    "\n",
    "# train['Estimated_Rotation_Speed'] = estimate_rotation_speed(train['X2'], train['X3'], train['X4'], train['X5_numeric'], train['X6'])\n",
    "# test['Estimated_Rotation_Speed'] = estimate_rotation_speed(test['X2'], test['X3'], test['X4'], test['X5_numeric'], test['X6'])"
   ]
  },
  {
   "cell_type": "code",
   "execution_count": 11,
   "metadata": {},
   "outputs": [],
   "source": [
    "train['X2/X3'] = train['X2'] / train['X3']\n",
    "test['X2/X3'] = test['X2'] / test['X3']"
   ]
  },
  {
   "cell_type": "code",
   "execution_count": 12,
   "metadata": {},
   "outputs": [],
   "source": [
    "train['SPT'] = train['X5_numeric'] / train['X4']\n",
    "test['SPT'] = test['X5_numeric'] / test['X4']"
   ]
  },
  {
   "cell_type": "code",
   "execution_count": 13,
   "metadata": {},
   "outputs": [],
   "source": [
    "train['SPTCC'] = train['SPT'] * train['X6']\n",
    "test['SPTCC'] = test['SPT'] * test['X6']"
   ]
  },
  {
   "cell_type": "code",
   "execution_count": 14,
   "metadata": {},
   "outputs": [],
   "source": [
    "# X2_idx = train[(train['X2'] > 440)].index # 440\n",
    "# X3_idx = train[(train['X3'] > 550)].index # 550\n",
    "# X4_idx = train[(train['X4'] > 36)].index\n",
    "# X6_idx = train[(train['X6'] > 250)].index # 250\n",
    "# Y1_idx = train[(train['Y1'] == 0) | (train['Y1'] > 70000)].index\n",
    "# Y2_idx = train[(train['Y2'] == 0) | (train['Y2'] > 70000)].index\n",
    "\n",
    "# train.loc[X2_idx, 'X2'] = train.loc[(train ['X2'] >= 500), 'X2'].mean()\n",
    "# train.loc[X3_idx, 'X3'] = train.loc[(train ['X3'] >= 600), 'X3'].mean()\n",
    "# train.loc[X4_idx, 'X4'] = train.loc[(train ['X4'] >= 36), 'X4'].mean()\n",
    "# train.loc[X6_idx, 'X6'] = train.loc[(train ['X6'] >= 265), 'X6'].mean()\n",
    "# train.loc[Y1_idx, 'Y1'] = train.loc[(train['Y1'] != 0) & (train['Y1'] <= 70000), 'Y1'].mean()\n",
    "# train.loc[Y2_idx, 'Y2'] = train.loc[(train['Y2'] != 0) & (train['Y2'] <= 70000), 'Y2'].mean()\n",
    "\n",
    "def remove_outliers_with_k(column, k=1.5):\n",
    "    Q1 = column.quantile(0.25)\n",
    "    Q3 = column.quantile(0.75)\n",
    "    IQR = Q3 - Q1\n",
    "    lower_bound = Q1 - (k * IQR)\n",
    "    upper_bound = Q3 + (k * IQR)\n",
    "    return (column >= lower_bound) & (column <= upper_bound)\n",
    "\n",
    "train = train.reset_index(drop=True)"
   ]
  },
  {
   "cell_type": "code",
   "execution_count": 15,
   "metadata": {},
   "outputs": [],
   "source": [
    "scaler = MinMaxScaler()\n",
    "\n",
    "columns_to_scale = ['X2', 'X3', 'X4', 'X6', 'X2/X3', 'SPT', 'SPTCC']\n",
    "\n",
    "train[columns_to_scale] = scaler.fit_transform(train[columns_to_scale])\n",
    "test[columns_to_scale] = scaler.transform(test[columns_to_scale])"
   ]
  },
  {
   "cell_type": "code",
   "execution_count": 16,
   "metadata": {},
   "outputs": [],
   "source": [
    "# columns_to_dbscan = ['X2', 'X3', 'X4', 'X6', 'X2/X3', 'X5_numeric', 'Estimated_Rotation_Speed']\n",
    "\n",
    "# dbscan = DBSCAN(eps=5, min_samples=5)\n",
    "# train['cluster'] = dbscan.fit_predict(train[columns_to_dbscan])\n",
    "\n",
    "# # 클러스터가 -1인 것은 이상치로 간주하고 제거\n",
    "# train = train[train['cluster'] != -1].drop(columns=['cluster'])\n",
    "\n",
    "# train"
   ]
  },
  {
   "cell_type": "code",
   "execution_count": 17,
   "metadata": {},
   "outputs": [
    {
     "data": {
      "text/html": [
       "<div>\n",
       "<style scoped>\n",
       "    .dataframe tbody tr th:only-of-type {\n",
       "        vertical-align: middle;\n",
       "    }\n",
       "\n",
       "    .dataframe tbody tr th {\n",
       "        vertical-align: top;\n",
       "    }\n",
       "\n",
       "    .dataframe thead th {\n",
       "        text-align: right;\n",
       "    }\n",
       "</style>\n",
       "<table border=\"1\" class=\"dataframe\">\n",
       "  <thead>\n",
       "    <tr style=\"text-align: right;\">\n",
       "      <th></th>\n",
       "      <th>X2</th>\n",
       "      <th>X3</th>\n",
       "      <th>X4</th>\n",
       "      <th>X6</th>\n",
       "      <th>X7</th>\n",
       "      <th>X8</th>\n",
       "      <th>Y1</th>\n",
       "      <th>Y2</th>\n",
       "      <th>X5_mmtime</th>\n",
       "      <th>X5_mctime</th>\n",
       "      <th>X7_wmtime</th>\n",
       "      <th>X7_wctime</th>\n",
       "      <th>X8_manmtime</th>\n",
       "      <th>X8_manctime</th>\n",
       "      <th>X5_numeric</th>\n",
       "      <th>X2/X3</th>\n",
       "      <th>SPT</th>\n",
       "      <th>SPTCC</th>\n",
       "    </tr>\n",
       "  </thead>\n",
       "  <tbody>\n",
       "    <tr>\n",
       "      <th>0</th>\n",
       "      <td>0.101880</td>\n",
       "      <td>0.106053</td>\n",
       "      <td>0.485294</td>\n",
       "      <td>0.007229</td>\n",
       "      <td>97</td>\n",
       "      <td>PL973</td>\n",
       "      <td>467.0</td>\n",
       "      <td>2241.0</td>\n",
       "      <td>588.517493</td>\n",
       "      <td>2255.398250</td>\n",
       "      <td>424.774954</td>\n",
       "      <td>2635.545978</td>\n",
       "      <td>414.072878</td>\n",
       "      <td>2632.468069</td>\n",
       "      <td>313.6</td>\n",
       "      <td>0.009845</td>\n",
       "      <td>0.067917</td>\n",
       "      <td>0.005801</td>\n",
       "    </tr>\n",
       "    <tr>\n",
       "      <th>1</th>\n",
       "      <td>0.214505</td>\n",
       "      <td>0.105246</td>\n",
       "      <td>0.205882</td>\n",
       "      <td>0.002410</td>\n",
       "      <td>27</td>\n",
       "      <td>PL271</td>\n",
       "      <td>1058.0</td>\n",
       "      <td>1163.0</td>\n",
       "      <td>588.517493</td>\n",
       "      <td>2255.398250</td>\n",
       "      <td>512.662090</td>\n",
       "      <td>1440.456061</td>\n",
       "      <td>590.812157</td>\n",
       "      <td>1489.384339</td>\n",
       "      <td>313.6</td>\n",
       "      <td>0.020675</td>\n",
       "      <td>0.134369</td>\n",
       "      <td>0.004945</td>\n",
       "    </tr>\n",
       "    <tr>\n",
       "      <th>2</th>\n",
       "      <td>0.107444</td>\n",
       "      <td>0.069088</td>\n",
       "      <td>0.352941</td>\n",
       "      <td>0.000000</td>\n",
       "      <td>14</td>\n",
       "      <td>PL141</td>\n",
       "      <td>270.0</td>\n",
       "      <td>1094.0</td>\n",
       "      <td>314.389561</td>\n",
       "      <td>1561.396820</td>\n",
       "      <td>304.917220</td>\n",
       "      <td>1160.583795</td>\n",
       "      <td>298.877326</td>\n",
       "      <td>1162.634690</td>\n",
       "      <td>313.6</td>\n",
       "      <td>0.015900</td>\n",
       "      <td>0.090651</td>\n",
       "      <td>0.001428</td>\n",
       "    </tr>\n",
       "    <tr>\n",
       "      <th>3</th>\n",
       "      <td>0.093822</td>\n",
       "      <td>0.154318</td>\n",
       "      <td>0.264706</td>\n",
       "      <td>0.038554</td>\n",
       "      <td>24</td>\n",
       "      <td>PL242</td>\n",
       "      <td>391.0</td>\n",
       "      <td>2604.0</td>\n",
       "      <td>951.562925</td>\n",
       "      <td>2206.966183</td>\n",
       "      <td>538.719053</td>\n",
       "      <td>2867.222400</td>\n",
       "      <td>546.286353</td>\n",
       "      <td>2992.967657</td>\n",
       "      <td>235.0</td>\n",
       "      <td>0.006173</td>\n",
       "      <td>0.079197</td>\n",
       "      <td>0.029823</td>\n",
       "    </tr>\n",
       "    <tr>\n",
       "      <th>4</th>\n",
       "      <td>0.076170</td>\n",
       "      <td>0.091848</td>\n",
       "      <td>0.250000</td>\n",
       "      <td>0.007229</td>\n",
       "      <td>23</td>\n",
       "      <td>PL233</td>\n",
       "      <td>232.0</td>\n",
       "      <td>1564.0</td>\n",
       "      <td>951.562925</td>\n",
       "      <td>2206.966183</td>\n",
       "      <td>406.549153</td>\n",
       "      <td>3019.517627</td>\n",
       "      <td>385.282033</td>\n",
       "      <td>2913.487235</td>\n",
       "      <td>235.0</td>\n",
       "      <td>0.008578</td>\n",
       "      <td>0.082722</td>\n",
       "      <td>0.006836</td>\n",
       "    </tr>\n",
       "    <tr>\n",
       "      <th>...</th>\n",
       "      <td>...</td>\n",
       "      <td>...</td>\n",
       "      <td>...</td>\n",
       "      <td>...</td>\n",
       "      <td>...</td>\n",
       "      <td>...</td>\n",
       "      <td>...</td>\n",
       "      <td>...</td>\n",
       "      <td>...</td>\n",
       "      <td>...</td>\n",
       "      <td>...</td>\n",
       "      <td>...</td>\n",
       "      <td>...</td>\n",
       "      <td>...</td>\n",
       "      <td>...</td>\n",
       "      <td>...</td>\n",
       "      <td>...</td>\n",
       "      <td>...</td>\n",
       "    </tr>\n",
       "    <tr>\n",
       "      <th>121749</th>\n",
       "      <td>0.182655</td>\n",
       "      <td>0.141566</td>\n",
       "      <td>0.117647</td>\n",
       "      <td>0.016867</td>\n",
       "      <td>21</td>\n",
       "      <td>PS213</td>\n",
       "      <td>906.0</td>\n",
       "      <td>1226.0</td>\n",
       "      <td>906.000000</td>\n",
       "      <td>1226.000000</td>\n",
       "      <td>568.374486</td>\n",
       "      <td>2918.445885</td>\n",
       "      <td>531.624726</td>\n",
       "      <td>2584.399671</td>\n",
       "      <td>235.0</td>\n",
       "      <td>0.013102</td>\n",
       "      <td>0.130304</td>\n",
       "      <td>0.020887</td>\n",
       "    </tr>\n",
       "    <tr>\n",
       "      <th>121750</th>\n",
       "      <td>0.085955</td>\n",
       "      <td>0.079419</td>\n",
       "      <td>0.500000</td>\n",
       "      <td>0.000000</td>\n",
       "      <td>23</td>\n",
       "      <td>PL231</td>\n",
       "      <td>175.0</td>\n",
       "      <td>1540.0</td>\n",
       "      <td>175.000000</td>\n",
       "      <td>1540.000000</td>\n",
       "      <td>406.549153</td>\n",
       "      <td>3019.517627</td>\n",
       "      <td>441.762766</td>\n",
       "      <td>3215.477385</td>\n",
       "      <td>352.8</td>\n",
       "      <td>0.011159</td>\n",
       "      <td>0.077060</td>\n",
       "      <td>0.001191</td>\n",
       "    </tr>\n",
       "    <tr>\n",
       "      <th>121751</th>\n",
       "      <td>0.075403</td>\n",
       "      <td>0.045843</td>\n",
       "      <td>0.823529</td>\n",
       "      <td>0.009639</td>\n",
       "      <td>27</td>\n",
       "      <td>PL272</td>\n",
       "      <td>376.0</td>\n",
       "      <td>1492.0</td>\n",
       "      <td>376.000000</td>\n",
       "      <td>1492.000000</td>\n",
       "      <td>512.662090</td>\n",
       "      <td>1440.456061</td>\n",
       "      <td>585.325622</td>\n",
       "      <td>1431.167574</td>\n",
       "      <td>352.8</td>\n",
       "      <td>0.016881</td>\n",
       "      <td>0.044682</td>\n",
       "      <td>0.005359</td>\n",
       "    </tr>\n",
       "    <tr>\n",
       "      <th>121752</th>\n",
       "      <td>0.036262</td>\n",
       "      <td>0.021792</td>\n",
       "      <td>0.882353</td>\n",
       "      <td>0.016867</td>\n",
       "      <td>97</td>\n",
       "      <td>PL973</td>\n",
       "      <td>85.0</td>\n",
       "      <td>723.0</td>\n",
       "      <td>609.500000</td>\n",
       "      <td>3930.750000</td>\n",
       "      <td>424.774954</td>\n",
       "      <td>2635.545978</td>\n",
       "      <td>414.072878</td>\n",
       "      <td>2632.468069</td>\n",
       "      <td>352.8</td>\n",
       "      <td>0.017337</td>\n",
       "      <td>0.040921</td>\n",
       "      <td>0.008384</td>\n",
       "    </tr>\n",
       "    <tr>\n",
       "      <th>121753</th>\n",
       "      <td>0.036262</td>\n",
       "      <td>0.021953</td>\n",
       "      <td>0.882353</td>\n",
       "      <td>0.016867</td>\n",
       "      <td>97</td>\n",
       "      <td>PL974</td>\n",
       "      <td>113.0</td>\n",
       "      <td>934.0</td>\n",
       "      <td>609.500000</td>\n",
       "      <td>3930.750000</td>\n",
       "      <td>424.774954</td>\n",
       "      <td>2635.545978</td>\n",
       "      <td>438.427796</td>\n",
       "      <td>2639.472524</td>\n",
       "      <td>352.8</td>\n",
       "      <td>0.017222</td>\n",
       "      <td>0.040921</td>\n",
       "      <td>0.008384</td>\n",
       "    </tr>\n",
       "  </tbody>\n",
       "</table>\n",
       "<p>121754 rows × 18 columns</p>\n",
       "</div>"
      ],
      "text/plain": [
       "              X2        X3        X4        X6  X7     X8      Y1      Y2  \\\n",
       "0       0.101880  0.106053  0.485294  0.007229  97  PL973   467.0  2241.0   \n",
       "1       0.214505  0.105246  0.205882  0.002410  27  PL271  1058.0  1163.0   \n",
       "2       0.107444  0.069088  0.352941  0.000000  14  PL141   270.0  1094.0   \n",
       "3       0.093822  0.154318  0.264706  0.038554  24  PL242   391.0  2604.0   \n",
       "4       0.076170  0.091848  0.250000  0.007229  23  PL233   232.0  1564.0   \n",
       "...          ...       ...       ...       ...  ..    ...     ...     ...   \n",
       "121749  0.182655  0.141566  0.117647  0.016867  21  PS213   906.0  1226.0   \n",
       "121750  0.085955  0.079419  0.500000  0.000000  23  PL231   175.0  1540.0   \n",
       "121751  0.075403  0.045843  0.823529  0.009639  27  PL272   376.0  1492.0   \n",
       "121752  0.036262  0.021792  0.882353  0.016867  97  PL973    85.0   723.0   \n",
       "121753  0.036262  0.021953  0.882353  0.016867  97  PL974   113.0   934.0   \n",
       "\n",
       "         X5_mmtime    X5_mctime   X7_wmtime    X7_wctime  X8_manmtime  \\\n",
       "0       588.517493  2255.398250  424.774954  2635.545978   414.072878   \n",
       "1       588.517493  2255.398250  512.662090  1440.456061   590.812157   \n",
       "2       314.389561  1561.396820  304.917220  1160.583795   298.877326   \n",
       "3       951.562925  2206.966183  538.719053  2867.222400   546.286353   \n",
       "4       951.562925  2206.966183  406.549153  3019.517627   385.282033   \n",
       "...            ...          ...         ...          ...          ...   \n",
       "121749  906.000000  1226.000000  568.374486  2918.445885   531.624726   \n",
       "121750  175.000000  1540.000000  406.549153  3019.517627   441.762766   \n",
       "121751  376.000000  1492.000000  512.662090  1440.456061   585.325622   \n",
       "121752  609.500000  3930.750000  424.774954  2635.545978   414.072878   \n",
       "121753  609.500000  3930.750000  424.774954  2635.545978   438.427796   \n",
       "\n",
       "        X8_manctime  X5_numeric     X2/X3       SPT     SPTCC  \n",
       "0       2632.468069       313.6  0.009845  0.067917  0.005801  \n",
       "1       1489.384339       313.6  0.020675  0.134369  0.004945  \n",
       "2       1162.634690       313.6  0.015900  0.090651  0.001428  \n",
       "3       2992.967657       235.0  0.006173  0.079197  0.029823  \n",
       "4       2913.487235       235.0  0.008578  0.082722  0.006836  \n",
       "...             ...         ...       ...       ...       ...  \n",
       "121749  2584.399671       235.0  0.013102  0.130304  0.020887  \n",
       "121750  3215.477385       352.8  0.011159  0.077060  0.001191  \n",
       "121751  1431.167574       352.8  0.016881  0.044682  0.005359  \n",
       "121752  2632.468069       352.8  0.017337  0.040921  0.008384  \n",
       "121753  2639.472524       352.8  0.017222  0.040921  0.008384  \n",
       "\n",
       "[121754 rows x 18 columns]"
      ]
     },
     "execution_count": 17,
     "metadata": {},
     "output_type": "execute_result"
    }
   ],
   "source": [
    "train"
   ]
  },
  {
   "cell_type": "code",
   "execution_count": null,
   "metadata": {},
   "outputs": [],
   "source": [
    "# exclude_columns = ['cluster']\n",
    "\n",
    "# num_columns = len(filtered_train.columns) - len(exclude_columns)\n",
    "# num_rows = (num_columns - 1) // 4 + 1 \n",
    "\n",
    "# fig, axes = plt.subplots(nrows=num_rows, ncols=4, figsize=(16, num_rows * 4))\n",
    "# axes = axes.flatten()\n",
    "\n",
    "# index = 0\n",
    "# for i, column in enumerate(filtered_train.columns):\n",
    "#     if column not in exclude_columns:\n",
    "#         sns.histplot(data=filtered_train, x=column, kde=True, ax=axes[index])\n",
    "#         axes[index].set_title(f'Histogram of {column}')\n",
    "#         axes[index].set_xlabel('Values')\n",
    "#         axes[index].set_ylabel('Frequency')\n",
    "#         index += 1\n",
    "\n",
    "# for i in range(index, len(axes)):\n",
    "#     fig.delaxes(axes[i])\n",
    "\n",
    "# plt.tight_layout()  \n",
    "# plt.show()"
   ]
  },
  {
   "cell_type": "code",
   "execution_count": 18,
   "metadata": {},
   "outputs": [],
   "source": [
    "train['Y1'] = np.log1p(train['Y1'])\n",
    "train['Y2'] = np.log1p(train['Y2'])"
   ]
  },
  {
   "cell_type": "code",
   "execution_count": 19,
   "metadata": {},
   "outputs": [
    {
     "data": {
      "text/plain": [
       "<Axes: >"
      ]
     },
     "execution_count": 19,
     "metadata": {},
     "output_type": "execute_result"
    },
    {
     "data": {
      "image/png": "[encoded data removed]",
      "text/plain": [
       "<Figure size 640x480 with 1 Axes>"
      ]
     },
     "metadata": {},
     "output_type": "display_data"
    }
   ],
   "source": [
    "train['Y1'].hist(bins = 100)"
   ]
  },
  {
   "cell_type": "code",
   "execution_count": 20,
   "metadata": {},
   "outputs": [
    {
     "data": {
      "text/plain": [
       "<Axes: >"
      ]
     },
     "execution_count": 20,
     "metadata": {},
     "output_type": "execute_result"
    },
    {
     "data": {
      "image/png": "[encoded data removed]",
      "text/plain": [
       "<Figure size 640x480 with 1 Axes>"
      ]
     },
     "metadata": {},
     "output_type": "display_data"
    }
   ],
   "source": [
    "train['Y2'].hist(bins = 100)"
   ]
  },
  {
   "cell_type": "code",
   "execution_count": 21,
   "metadata": {},
   "outputs": [
    {
     "data": {
      "text/plain": [
       "<Axes: >"
      ]
     },
     "execution_count": 21,
     "metadata": {},
     "output_type": "execute_result"
    },
    {
     "data": {
      "image/png": "[encoded data removed]",
      "text/plain": [
       "<Figure size 640x480 with 1 Axes>"
      ]
     },
     "metadata": {},
     "output_type": "display_data"
    }
   ],
   "source": [
    "train = train[(train['Y1'] > 3) & (train['Y1'] < 9)]\n",
    "train['Y1'].hist(bins=100)"
   ]
  },
  {
   "cell_type": "code",
   "execution_count": 22,
   "metadata": {},
   "outputs": [
    {
     "data": {
      "text/plain": [
       "<Axes: >"
      ]
     },
     "execution_count": 22,
     "metadata": {},
     "output_type": "execute_result"
    },
    {
     "data": {
      "image/png": "[encoded data removed]",
      "text/plain": [
       "<Figure size 640x480 with 1 Axes>"
      ]
     },
     "metadata": {},
     "output_type": "display_data"
    }
   ],
   "source": [
    "train = train[(train['Y2'] > 4) & (train['Y1'] < 10)]\n",
    "train['Y2'].hist(bins=100)"
   ]
  },
  {
   "cell_type": "markdown",
   "metadata": {},
   "source": [
    "## CatBoost"
   ]
  },
  {
   "cell_type": "code",
   "execution_count": 23,
   "metadata": {},
   "outputs": [
    {
     "name": "stderr",
     "output_type": "stream",
     "text": [
      "Processing folds:   0%|          | 0/5 [00:00<?, ?it/s]"
     ]
    },
    {
     "name": "stdout",
     "output_type": "stream",
     "text": [
      "0:\tlearn: 0.4577978\ttest: 0.4562904\tbest: 0.4562904 (0)\ttotal: 194ms\tremaining: 3m 13s\n",
      "50:\tlearn: 0.2489522\ttest: 0.2505224\tbest: 0.2505224 (50)\ttotal: 3.75s\tremaining: 1m 9s\n",
      "100:\tlearn: 0.2093115\ttest: 0.2113509\tbest: 0.2113509 (100)\ttotal: 7.17s\tremaining: 1m 3s\n",
      "150:\tlearn: 0.1973445\ttest: 0.1995106\tbest: 0.1995106 (150)\ttotal: 10.4s\tremaining: 58.7s\n",
      "200:\tlearn: 0.1920219\ttest: 0.1945238\tbest: 0.1945238 (200)\ttotal: 13.8s\tremaining: 54.7s\n",
      "250:\tlearn: 0.1890244\ttest: 0.1917239\tbest: 0.1917239 (250)\ttotal: 18s\tremaining: 53.8s\n",
      "300:\tlearn: 0.1868226\ttest: 0.1897033\tbest: 0.1897033 (300)\ttotal: 22.2s\tremaining: 51.5s\n",
      "350:\tlearn: 0.1852749\ttest: 0.1882965\tbest: 0.1882965 (350)\ttotal: 25.8s\tremaining: 47.7s\n",
      "400:\tlearn: 0.1838550\ttest: 0.1869781\tbest: 0.1869781 (400)\ttotal: 29s\tremaining: 43.3s\n",
      "450:\tlearn: 0.1825362\ttest: 0.1858005\tbest: 0.1858005 (450)\ttotal: 32.2s\tremaining: 39.1s\n",
      "500:\tlearn: 0.1814584\ttest: 0.1849001\tbest: 0.1849001 (500)\ttotal: 35.3s\tremaining: 35.1s\n",
      "550:\tlearn: 0.1805759\ttest: 0.1841658\tbest: 0.1841658 (550)\ttotal: 38.2s\tremaining: 31.1s\n",
      "600:\tlearn: 0.1797518\ttest: 0.1834788\tbest: 0.1834788 (600)\ttotal: 41.1s\tremaining: 27.3s\n",
      "650:\tlearn: 0.1789822\ttest: 0.1828550\tbest: 0.1828550 (650)\ttotal: 44s\tremaining: 23.6s\n",
      "700:\tlearn: 0.1782901\ttest: 0.1822919\tbest: 0.1822919 (700)\ttotal: 46.7s\tremaining: 19.9s\n",
      "750:\tlearn: 0.1776917\ttest: 0.1818230\tbest: 0.1818230 (750)\ttotal: 49.5s\tremaining: 16.4s\n",
      "800:\tlearn: 0.1771499\ttest: 0.1813981\tbest: 0.1813981 (800)\ttotal: 52.3s\tremaining: 13s\n",
      "850:\tlearn: 0.1766252\ttest: 0.1809702\tbest: 0.1809702 (850)\ttotal: 55.2s\tremaining: 9.66s\n",
      "900:\tlearn: 0.1761581\ttest: 0.1806138\tbest: 0.1806138 (900)\ttotal: 58s\tremaining: 6.38s\n",
      "950:\tlearn: 0.1756644\ttest: 0.1802178\tbest: 0.1802178 (950)\ttotal: 1m\tremaining: 3.14s\n"
     ]
    },
    {
     "name": "stderr",
     "output_type": "stream",
     "text": [
      "Processing folds:  20%|██        | 1/5 [01:04<04:17, 64.28s/it]"
     ]
    },
    {
     "name": "stdout",
     "output_type": "stream",
     "text": [
      "999:\tlearn: 0.1752546\ttest: 0.1799314\tbest: 0.1799314 (999)\ttotal: 1m 3s\tremaining: 0us\n",
      "\n",
      "bestTest = 0.1799313995\n",
      "bestIteration = 999\n",
      "\n",
      "0:\tlearn: 0.4574415\ttest: 0.4575823\tbest: 0.4575823 (0)\ttotal: 56.5ms\tremaining: 56.4s\n",
      "50:\tlearn: 0.2485135\ttest: 0.2480304\tbest: 0.2480304 (50)\ttotal: 2.88s\tremaining: 53.5s\n",
      "100:\tlearn: 0.2094652\ttest: 0.2091378\tbest: 0.2091378 (100)\ttotal: 5.74s\tremaining: 51.1s\n",
      "150:\tlearn: 0.1976269\ttest: 0.1970788\tbest: 0.1970788 (150)\ttotal: 8.75s\tremaining: 49.2s\n",
      "200:\tlearn: 0.1926632\ttest: 0.1921492\tbest: 0.1921492 (200)\ttotal: 11.6s\tremaining: 46.1s\n",
      "250:\tlearn: 0.1895962\ttest: 0.1891977\tbest: 0.1891977 (250)\ttotal: 14.6s\tremaining: 43.6s\n",
      "300:\tlearn: 0.1875876\ttest: 0.1873665\tbest: 0.1873665 (300)\ttotal: 17.7s\tremaining: 41s\n",
      "350:\tlearn: 0.1859089\ttest: 0.1858314\tbest: 0.1858314 (350)\ttotal: 20.7s\tremaining: 38.2s\n",
      "400:\tlearn: 0.1845577\ttest: 0.1846139\tbest: 0.1846139 (400)\ttotal: 24.3s\tremaining: 36.3s\n",
      "450:\tlearn: 0.1832901\ttest: 0.1834999\tbest: 0.1834999 (450)\ttotal: 27.6s\tremaining: 33.6s\n",
      "500:\tlearn: 0.1821974\ttest: 0.1825171\tbest: 0.1825171 (500)\ttotal: 31s\tremaining: 30.8s\n",
      "550:\tlearn: 0.1812643\ttest: 0.1817219\tbest: 0.1817219 (550)\ttotal: 34s\tremaining: 27.7s\n",
      "600:\tlearn: 0.1803965\ttest: 0.1809884\tbest: 0.1809884 (600)\ttotal: 37.2s\tremaining: 24.7s\n",
      "650:\tlearn: 0.1796736\ttest: 0.1803973\tbest: 0.1803973 (650)\ttotal: 40.2s\tremaining: 21.5s\n",
      "700:\tlearn: 0.1790459\ttest: 0.1799083\tbest: 0.1799083 (700)\ttotal: 43.2s\tremaining: 18.4s\n",
      "750:\tlearn: 0.1784195\ttest: 0.1794299\tbest: 0.1794299 (750)\ttotal: 46.4s\tremaining: 15.4s\n",
      "800:\tlearn: 0.1778147\ttest: 0.1789529\tbest: 0.1789529 (800)\ttotal: 49.5s\tremaining: 12.3s\n",
      "850:\tlearn: 0.1772622\ttest: 0.1785517\tbest: 0.1785517 (850)\ttotal: 52.8s\tremaining: 9.25s\n",
      "900:\tlearn: 0.1767356\ttest: 0.1781556\tbest: 0.1781556 (900)\ttotal: 56.1s\tremaining: 6.16s\n",
      "950:\tlearn: 0.1762787\ttest: 0.1778002\tbest: 0.1778002 (950)\ttotal: 59.5s\tremaining: 3.06s\n"
     ]
    },
    {
     "name": "stderr",
     "output_type": "stream",
     "text": [
      "Processing folds:  40%|████      | 2/5 [02:07<03:10, 63.52s/it]"
     ]
    },
    {
     "name": "stdout",
     "output_type": "stream",
     "text": [
      "999:\tlearn: 0.1758617\ttest: 0.1775017\tbest: 0.1775017 (999)\ttotal: 1m 2s\tremaining: 0us\n",
      "\n",
      "bestTest = 0.1775017305\n",
      "bestIteration = 999\n",
      "\n",
      "0:\tlearn: 0.4579033\ttest: 0.4558106\tbest: 0.4558106 (0)\ttotal: 74.7ms\tremaining: 1m 14s\n",
      "50:\tlearn: 0.2490061\ttest: 0.2456924\tbest: 0.2456924 (50)\ttotal: 3.5s\tremaining: 1m 5s\n",
      "100:\tlearn: 0.2102757\ttest: 0.2065647\tbest: 0.2065647 (100)\ttotal: 6.64s\tremaining: 59.1s\n",
      "150:\tlearn: 0.1984418\ttest: 0.1949538\tbest: 0.1949538 (150)\ttotal: 9.77s\tremaining: 54.9s\n",
      "200:\tlearn: 0.1934568\ttest: 0.1900081\tbest: 0.1900081 (200)\ttotal: 12.8s\tremaining: 50.7s\n",
      "250:\tlearn: 0.1905692\ttest: 0.1871528\tbest: 0.1871528 (250)\ttotal: 15.8s\tremaining: 47.2s\n",
      "300:\tlearn: 0.1884643\ttest: 0.1851472\tbest: 0.1851472 (300)\ttotal: 18.8s\tremaining: 43.7s\n",
      "350:\tlearn: 0.1867877\ttest: 0.1835462\tbest: 0.1835462 (350)\ttotal: 21.8s\tremaining: 40.4s\n",
      "400:\tlearn: 0.1852878\ttest: 0.1821039\tbest: 0.1821039 (400)\ttotal: 24.9s\tremaining: 37.1s\n",
      "450:\tlearn: 0.1841376\ttest: 0.1810070\tbest: 0.1810070 (450)\ttotal: 27.9s\tremaining: 33.9s\n",
      "500:\tlearn: 0.1830191\ttest: 0.1799616\tbest: 0.1799616 (500)\ttotal: 31.1s\tremaining: 30.9s\n",
      "550:\tlearn: 0.1820490\ttest: 0.1790964\tbest: 0.1790964 (550)\ttotal: 34.2s\tremaining: 27.9s\n",
      "600:\tlearn: 0.1811135\ttest: 0.1783052\tbest: 0.1783052 (600)\ttotal: 37.3s\tremaining: 24.8s\n",
      "650:\tlearn: 0.1803284\ttest: 0.1776392\tbest: 0.1776392 (650)\ttotal: 40.3s\tremaining: 21.6s\n",
      "700:\tlearn: 0.1796629\ttest: 0.1771119\tbest: 0.1771119 (700)\ttotal: 43.2s\tremaining: 18.4s\n",
      "750:\tlearn: 0.1790518\ttest: 0.1766366\tbest: 0.1766366 (750)\ttotal: 46.1s\tremaining: 15.3s\n",
      "800:\tlearn: 0.1785071\ttest: 0.1762261\tbest: 0.1762261 (800)\ttotal: 48.9s\tremaining: 12.1s\n",
      "850:\tlearn: 0.1779573\ttest: 0.1758146\tbest: 0.1758146 (850)\ttotal: 51.7s\tremaining: 9.05s\n",
      "900:\tlearn: 0.1774116\ttest: 0.1753965\tbest: 0.1753965 (900)\ttotal: 54.5s\tremaining: 5.99s\n",
      "950:\tlearn: 0.1769389\ttest: 0.1750593\tbest: 0.1750593 (950)\ttotal: 57.4s\tremaining: 2.96s\n"
     ]
    },
    {
     "name": "stderr",
     "output_type": "stream",
     "text": [
      "Processing folds:  60%|██████    | 3/5 [03:07<02:04, 62.22s/it]"
     ]
    },
    {
     "name": "stdout",
     "output_type": "stream",
     "text": [
      "999:\tlearn: 0.1765001\ttest: 0.1747196\tbest: 0.1747196 (999)\ttotal: 1m\tremaining: 0us\n",
      "\n",
      "bestTest = 0.1747196092\n",
      "bestIteration = 999\n",
      "\n",
      "0:\tlearn: 0.4562376\ttest: 0.4618959\tbest: 0.4618959 (0)\ttotal: 54.5ms\tremaining: 54.5s\n",
      "50:\tlearn: 0.2485117\ttest: 0.2519000\tbest: 0.2519000 (50)\ttotal: 2.99s\tremaining: 55.6s\n",
      "100:\tlearn: 0.2089057\ttest: 0.2120785\tbest: 0.2120785 (100)\ttotal: 5.84s\tremaining: 52s\n",
      "150:\tlearn: 0.1970754\ttest: 0.2002487\tbest: 0.2002487 (150)\ttotal: 8.73s\tremaining: 49.1s\n",
      "200:\tlearn: 0.1919019\ttest: 0.1950522\tbest: 0.1950522 (200)\ttotal: 11.6s\tremaining: 46.2s\n",
      "250:\tlearn: 0.1889024\ttest: 0.1922018\tbest: 0.1922018 (250)\ttotal: 14.5s\tremaining: 43.2s\n",
      "300:\tlearn: 0.1867897\ttest: 0.1902681\tbest: 0.1902681 (300)\ttotal: 17.2s\tremaining: 40s\n",
      "350:\tlearn: 0.1850799\ttest: 0.1887099\tbest: 0.1887099 (350)\ttotal: 20.1s\tremaining: 37.1s\n",
      "400:\tlearn: 0.1836616\ttest: 0.1874304\tbest: 0.1874304 (400)\ttotal: 23s\tremaining: 34.3s\n",
      "450:\tlearn: 0.1824766\ttest: 0.1863977\tbest: 0.1863977 (450)\ttotal: 25.8s\tremaining: 31.4s\n",
      "500:\tlearn: 0.1813997\ttest: 0.1854765\tbest: 0.1854765 (500)\ttotal: 28.7s\tremaining: 28.6s\n",
      "550:\tlearn: 0.1804555\ttest: 0.1846634\tbest: 0.1846634 (550)\ttotal: 31.6s\tremaining: 25.7s\n",
      "600:\tlearn: 0.1796538\ttest: 0.1840136\tbest: 0.1840136 (600)\ttotal: 34.5s\tremaining: 22.9s\n",
      "650:\tlearn: 0.1788768\ttest: 0.1833859\tbest: 0.1833859 (650)\ttotal: 37.4s\tremaining: 20s\n",
      "700:\tlearn: 0.1780856\ttest: 0.1827801\tbest: 0.1827801 (700)\ttotal: 40.4s\tremaining: 17.2s\n",
      "750:\tlearn: 0.1774364\ttest: 0.1822737\tbest: 0.1822737 (750)\ttotal: 43.2s\tremaining: 14.3s\n",
      "800:\tlearn: 0.1768223\ttest: 0.1817865\tbest: 0.1817865 (800)\ttotal: 46.2s\tremaining: 11.5s\n",
      "850:\tlearn: 0.1762824\ttest: 0.1814024\tbest: 0.1814024 (850)\ttotal: 49.1s\tremaining: 8.6s\n",
      "900:\tlearn: 0.1757849\ttest: 0.1810105\tbest: 0.1810105 (900)\ttotal: 52.1s\tremaining: 5.72s\n",
      "950:\tlearn: 0.1753310\ttest: 0.1806778\tbest: 0.1806778 (950)\ttotal: 55.2s\tremaining: 2.84s\n"
     ]
    },
    {
     "name": "stderr",
     "output_type": "stream",
     "text": [
      "Processing folds:  80%|████████  | 4/5 [04:06<01:00, 60.75s/it]"
     ]
    },
    {
     "name": "stdout",
     "output_type": "stream",
     "text": [
      "999:\tlearn: 0.1748830\ttest: 0.1803896\tbest: 0.1803896 (999)\ttotal: 58s\tremaining: 0us\n",
      "\n",
      "bestTest = 0.1803895674\n",
      "bestIteration = 999\n",
      "\n",
      "0:\tlearn: 0.4577496\ttest: 0.4556123\tbest: 0.4556123 (0)\ttotal: 77.8ms\tremaining: 1m 17s\n",
      "50:\tlearn: 0.2495557\ttest: 0.2493848\tbest: 0.2493848 (50)\ttotal: 3.07s\tremaining: 57.1s\n",
      "100:\tlearn: 0.2094238\ttest: 0.2099782\tbest: 0.2099782 (100)\ttotal: 6.21s\tremaining: 55.3s\n",
      "150:\tlearn: 0.1974159\ttest: 0.1984052\tbest: 0.1984052 (150)\ttotal: 9.34s\tremaining: 52.5s\n",
      "200:\tlearn: 0.1923721\ttest: 0.1937675\tbest: 0.1937675 (200)\ttotal: 12.3s\tremaining: 48.8s\n",
      "250:\tlearn: 0.1893112\ttest: 0.1909394\tbest: 0.1909394 (250)\ttotal: 15.5s\tremaining: 46.3s\n",
      "300:\tlearn: 0.1871133\ttest: 0.1889660\tbest: 0.1889660 (300)\ttotal: 19.2s\tremaining: 44.7s\n",
      "350:\tlearn: 0.1853720\ttest: 0.1873936\tbest: 0.1873936 (350)\ttotal: 22.6s\tremaining: 41.8s\n",
      "400:\tlearn: 0.1838522\ttest: 0.1861617\tbest: 0.1861617 (400)\ttotal: 25.9s\tremaining: 38.7s\n",
      "450:\tlearn: 0.1826340\ttest: 0.1851373\tbest: 0.1851373 (450)\ttotal: 29.1s\tremaining: 35.4s\n",
      "500:\tlearn: 0.1815724\ttest: 0.1842845\tbest: 0.1842845 (500)\ttotal: 32.1s\tremaining: 32s\n",
      "550:\tlearn: 0.1807026\ttest: 0.1835544\tbest: 0.1835544 (550)\ttotal: 35.1s\tremaining: 28.6s\n",
      "600:\tlearn: 0.1798611\ttest: 0.1828927\tbest: 0.1828927 (600)\ttotal: 38.1s\tremaining: 25.3s\n",
      "650:\tlearn: 0.1790842\ttest: 0.1823148\tbest: 0.1823148 (650)\ttotal: 41s\tremaining: 22s\n",
      "700:\tlearn: 0.1783397\ttest: 0.1817361\tbest: 0.1817361 (700)\ttotal: 44.1s\tremaining: 18.8s\n",
      "750:\tlearn: 0.1777040\ttest: 0.1812611\tbest: 0.1812611 (750)\ttotal: 47.2s\tremaining: 15.6s\n",
      "800:\tlearn: 0.1771165\ttest: 0.1808921\tbest: 0.1808921 (800)\ttotal: 50.3s\tremaining: 12.5s\n",
      "850:\tlearn: 0.1765760\ttest: 0.1805296\tbest: 0.1805296 (850)\ttotal: 53.2s\tremaining: 9.32s\n",
      "900:\tlearn: 0.1760643\ttest: 0.1801600\tbest: 0.1801600 (900)\ttotal: 56.2s\tremaining: 6.17s\n",
      "950:\tlearn: 0.1755668\ttest: 0.1798209\tbest: 0.1798209 (950)\ttotal: 59.1s\tremaining: 3.04s\n"
     ]
    },
    {
     "name": "stderr",
     "output_type": "stream",
     "text": [
      "Processing folds: 100%|██████████| 5/5 [05:08<00:00, 61.76s/it]"
     ]
    },
    {
     "name": "stdout",
     "output_type": "stream",
     "text": [
      "999:\tlearn: 0.1751328\ttest: 0.1795362\tbest: 0.1795362 (999)\ttotal: 1m 1s\tremaining: 0us\n",
      "\n",
      "bestTest = 0.1795361532\n",
      "bestIteration = 999\n",
      "\n",
      "Validation : MAE scores for each fold: [0.17993239870599642, 0.17752796356043826, 0.1748079383625177, 0.18042073359858604, 0.17955544097065007]\n",
      "Validation : MAE: 0.17844889503963768\n"
     ]
    },
    {
     "name": "stderr",
     "output_type": "stream",
     "text": [
      "\n"
     ]
    }
   ],
   "source": [
    "cat_y1 = CatBoostRegressor(loss_function='MAE',\n",
    "                           cat_features=['X8'],  # Add categorical features index if any\n",
    "                           verbose=50\n",
    "                           )\n",
    "\n",
    "X_train_reduced = train.drop(columns=['Y1', 'Y2']).reset_index(drop=True)\n",
    "y_train = train['Y1'].reset_index(drop=True)\n",
    "\n",
    "kf = KFold(n_splits=5, shuffle=True, random_state=42)\n",
    "\n",
    "ensemble_predictions = []\n",
    "scores = []\n",
    "\n",
    "y_train = y_train.values\n",
    "\n",
    "for train_idx, val_idx in tqdm(kf.split(X_train_reduced), total=5, desc=\"Processing folds\"):\n",
    "    X_t, X_val = X_train_reduced.iloc[train_idx], X_train_reduced.iloc[val_idx]\n",
    "    y_t, y_val = y_train[train_idx], y_train[val_idx]\n",
    "\n",
    "    cat_y1.fit(X_t, y_t, eval_set=(X_val, y_val))\n",
    "\n",
    "    val_pred = cat_y1.predict(X_val)\n",
    "\n",
    "    scores.append(mean_absolute_error(y_val, val_pred))\n",
    "\n",
    "    test = test[X_train_reduced.columns]\n",
    "\n",
    "    cat_pred = cat_y1.predict(test)\n",
    "    cat_pred = np.where(cat_pred < 0, 0, cat_pred)\n",
    "\n",
    "    ensemble_predictions.append(cat_pred)\n",
    "\n",
    "final_predictions_y1 = np.mean(ensemble_predictions, axis=0)\n",
    "\n",
    "print(\"Validation : MAE scores for each fold:\", scores)\n",
    "print(\"Validation : MAE:\", np.mean(scores))"
   ]
  },
  {
   "cell_type": "code",
   "execution_count": 24,
   "metadata": {},
   "outputs": [
    {
     "name": "stderr",
     "output_type": "stream",
     "text": [
      "Processing folds:   0%|          | 0/5 [00:00<?, ?it/s]"
     ]
    },
    {
     "name": "stdout",
     "output_type": "stream",
     "text": [
      "0:\tlearn: 0.5175053\ttest: 0.5177997\tbest: 0.5177997 (0)\ttotal: 83.6ms\tremaining: 1m 23s\n",
      "50:\tlearn: 0.2026053\ttest: 0.2030622\tbest: 0.2030622 (50)\ttotal: 3.95s\tremaining: 1m 13s\n",
      "100:\tlearn: 0.1310896\ttest: 0.1321988\tbest: 0.1321988 (100)\ttotal: 7.64s\tremaining: 1m 7s\n",
      "150:\tlearn: 0.1090049\ttest: 0.1101141\tbest: 0.1101141 (150)\ttotal: 11.6s\tremaining: 1m 5s\n",
      "200:\tlearn: 0.1010212\ttest: 0.1021182\tbest: 0.1021182 (200)\ttotal: 14.6s\tremaining: 57.9s\n",
      "250:\tlearn: 0.0971779\ttest: 0.0983611\tbest: 0.0983611 (250)\ttotal: 17.7s\tremaining: 52.9s\n",
      "300:\tlearn: 0.0947235\ttest: 0.0960430\tbest: 0.0960430 (300)\ttotal: 20.7s\tremaining: 48.1s\n",
      "350:\tlearn: 0.0929344\ttest: 0.0944111\tbest: 0.0944111 (350)\ttotal: 23.6s\tremaining: 43.6s\n",
      "400:\tlearn: 0.0915541\ttest: 0.0931598\tbest: 0.0931598 (400)\ttotal: 26.4s\tremaining: 39.5s\n",
      "450:\tlearn: 0.0903863\ttest: 0.0921193\tbest: 0.0921193 (450)\ttotal: 29.3s\tremaining: 35.6s\n",
      "500:\tlearn: 0.0894041\ttest: 0.0912445\tbest: 0.0912445 (500)\ttotal: 32.2s\tremaining: 32s\n",
      "550:\tlearn: 0.0886388\ttest: 0.0905729\tbest: 0.0905729 (550)\ttotal: 35.2s\tremaining: 28.7s\n",
      "600:\tlearn: 0.0878789\ttest: 0.0898958\tbest: 0.0898958 (600)\ttotal: 38.1s\tremaining: 25.3s\n",
      "650:\tlearn: 0.0871926\ttest: 0.0892941\tbest: 0.0892941 (650)\ttotal: 41.1s\tremaining: 22s\n",
      "700:\tlearn: 0.0865992\ttest: 0.0887773\tbest: 0.0887773 (700)\ttotal: 43.9s\tremaining: 18.7s\n",
      "750:\tlearn: 0.0861185\ttest: 0.0883804\tbest: 0.0883804 (750)\ttotal: 46.9s\tremaining: 15.5s\n",
      "800:\tlearn: 0.0856007\ttest: 0.0879218\tbest: 0.0879218 (800)\ttotal: 49.9s\tremaining: 12.4s\n",
      "850:\tlearn: 0.0852078\ttest: 0.0876032\tbest: 0.0876032 (850)\ttotal: 53s\tremaining: 9.28s\n",
      "900:\tlearn: 0.0848471\ttest: 0.0872937\tbest: 0.0872937 (900)\ttotal: 56s\tremaining: 6.15s\n",
      "950:\tlearn: 0.0845169\ttest: 0.0870116\tbest: 0.0870116 (950)\ttotal: 59.4s\tremaining: 3.06s\n"
     ]
    },
    {
     "name": "stderr",
     "output_type": "stream",
     "text": [
      "Processing folds:  20%|██        | 1/5 [01:03<04:13, 63.39s/it]"
     ]
    },
    {
     "name": "stdout",
     "output_type": "stream",
     "text": [
      "999:\tlearn: 0.0842295\ttest: 0.0867923\tbest: 0.0867923 (999)\ttotal: 1m 2s\tremaining: 0us\n",
      "\n",
      "bestTest = 0.08679226636\n",
      "bestIteration = 999\n",
      "\n",
      "0:\tlearn: 0.5176240\ttest: 0.5173127\tbest: 0.5173127 (0)\ttotal: 72ms\tremaining: 1m 11s\n",
      "50:\tlearn: 0.2028302\ttest: 0.2013249\tbest: 0.2013249 (50)\ttotal: 4.01s\tremaining: 1m 14s\n",
      "100:\tlearn: 0.1312844\ttest: 0.1301356\tbest: 0.1301356 (100)\ttotal: 7.92s\tremaining: 1m 10s\n",
      "150:\tlearn: 0.1093473\ttest: 0.1081996\tbest: 0.1081996 (150)\ttotal: 11.6s\tremaining: 1m 5s\n",
      "200:\tlearn: 0.1012833\ttest: 0.1001870\tbest: 0.1001870 (200)\ttotal: 14.8s\tremaining: 58.9s\n",
      "250:\tlearn: 0.0972271\ttest: 0.0961816\tbest: 0.0961816 (250)\ttotal: 18.1s\tremaining: 53.9s\n",
      "300:\tlearn: 0.0948299\ttest: 0.0938587\tbest: 0.0938587 (300)\ttotal: 21.1s\tremaining: 49s\n",
      "350:\tlearn: 0.0931592\ttest: 0.0922531\tbest: 0.0922531 (350)\ttotal: 24.5s\tremaining: 45.4s\n",
      "400:\tlearn: 0.0917467\ttest: 0.0909003\tbest: 0.0909003 (400)\ttotal: 28s\tremaining: 41.8s\n",
      "450:\tlearn: 0.0905884\ttest: 0.0898116\tbest: 0.0898116 (450)\ttotal: 31s\tremaining: 37.7s\n",
      "500:\tlearn: 0.0895424\ttest: 0.0888065\tbest: 0.0888065 (500)\ttotal: 33.9s\tremaining: 33.7s\n",
      "550:\tlearn: 0.0886844\ttest: 0.0880232\tbest: 0.0880232 (550)\ttotal: 36.9s\tremaining: 30s\n",
      "600:\tlearn: 0.0879744\ttest: 0.0873635\tbest: 0.0873635 (600)\ttotal: 40.7s\tremaining: 27s\n",
      "650:\tlearn: 0.0873493\ttest: 0.0867797\tbest: 0.0867797 (650)\ttotal: 43.7s\tremaining: 23.4s\n",
      "700:\tlearn: 0.0868154\ttest: 0.0863092\tbest: 0.0863092 (700)\ttotal: 46.8s\tremaining: 20s\n",
      "750:\tlearn: 0.0863419\ttest: 0.0859037\tbest: 0.0859037 (750)\ttotal: 49.8s\tremaining: 16.5s\n",
      "800:\tlearn: 0.0859575\ttest: 0.0855686\tbest: 0.0855686 (800)\ttotal: 52.8s\tremaining: 13.1s\n",
      "850:\tlearn: 0.0855424\ttest: 0.0852234\tbest: 0.0852234 (850)\ttotal: 55.8s\tremaining: 9.78s\n",
      "900:\tlearn: 0.0851916\ttest: 0.0849334\tbest: 0.0849334 (900)\ttotal: 58.8s\tremaining: 6.46s\n",
      "950:\tlearn: 0.0848592\ttest: 0.0846651\tbest: 0.0846651 (950)\ttotal: 1m 1s\tremaining: 3.18s\n"
     ]
    },
    {
     "name": "stderr",
     "output_type": "stream",
     "text": [
      "Processing folds:  40%|████      | 2/5 [02:08<03:13, 64.38s/it]"
     ]
    },
    {
     "name": "stdout",
     "output_type": "stream",
     "text": [
      "999:\tlearn: 0.0845496\ttest: 0.0843999\tbest: 0.0843999 (999)\ttotal: 1m 4s\tremaining: 0us\n",
      "\n",
      "bestTest = 0.08439987945\n",
      "bestIteration = 999\n",
      "\n",
      "0:\tlearn: 0.5179116\ttest: 0.5159601\tbest: 0.5159601 (0)\ttotal: 68ms\tremaining: 1m 7s\n",
      "50:\tlearn: 0.2027165\ttest: 0.2016877\tbest: 0.2016877 (50)\ttotal: 3.18s\tremaining: 59.2s\n",
      "100:\tlearn: 0.1309110\ttest: 0.1303191\tbest: 0.1303191 (100)\ttotal: 6.18s\tremaining: 55s\n",
      "150:\tlearn: 0.1092304\ttest: 0.1086497\tbest: 0.1086497 (150)\ttotal: 9.04s\tremaining: 50.9s\n",
      "200:\tlearn: 0.1015403\ttest: 0.1007686\tbest: 0.1007686 (200)\ttotal: 11.9s\tremaining: 47.3s\n",
      "250:\tlearn: 0.0974751\ttest: 0.0966152\tbest: 0.0966152 (250)\ttotal: 14.8s\tremaining: 44.1s\n",
      "300:\tlearn: 0.0952309\ttest: 0.0943382\tbest: 0.0943382 (300)\ttotal: 17.6s\tremaining: 40.9s\n",
      "350:\tlearn: 0.0932096\ttest: 0.0922797\tbest: 0.0922797 (350)\ttotal: 20.5s\tremaining: 37.9s\n",
      "400:\tlearn: 0.0917704\ttest: 0.0908100\tbest: 0.0908100 (400)\ttotal: 23.4s\tremaining: 35s\n",
      "450:\tlearn: 0.0905682\ttest: 0.0895924\tbest: 0.0895924 (450)\ttotal: 26.3s\tremaining: 32s\n",
      "500:\tlearn: 0.0895333\ttest: 0.0885747\tbest: 0.0885747 (500)\ttotal: 29.2s\tremaining: 29.1s\n",
      "550:\tlearn: 0.0887156\ttest: 0.0877592\tbest: 0.0877592 (550)\ttotal: 32.1s\tremaining: 26.1s\n",
      "600:\tlearn: 0.0880104\ttest: 0.0870802\tbest: 0.0870802 (600)\ttotal: 35s\tremaining: 23.2s\n",
      "650:\tlearn: 0.0874138\ttest: 0.0864981\tbest: 0.0864981 (650)\ttotal: 37.9s\tremaining: 20.3s\n",
      "700:\tlearn: 0.0868482\ttest: 0.0859557\tbest: 0.0859557 (700)\ttotal: 40.7s\tremaining: 17.4s\n",
      "750:\tlearn: 0.0863526\ttest: 0.0854827\tbest: 0.0854827 (750)\ttotal: 43.7s\tremaining: 14.5s\n",
      "800:\tlearn: 0.0859345\ttest: 0.0850893\tbest: 0.0850893 (800)\ttotal: 46.6s\tremaining: 11.6s\n",
      "850:\tlearn: 0.0855247\ttest: 0.0846940\tbest: 0.0846940 (850)\ttotal: 49.4s\tremaining: 8.66s\n",
      "900:\tlearn: 0.0851902\ttest: 0.0843975\tbest: 0.0843975 (900)\ttotal: 52.3s\tremaining: 5.75s\n",
      "950:\tlearn: 0.0848626\ttest: 0.0841076\tbest: 0.0841076 (950)\ttotal: 55.3s\tremaining: 2.85s\n"
     ]
    },
    {
     "name": "stderr",
     "output_type": "stream",
     "text": [
      "Processing folds:  60%|██████    | 3/5 [03:07<02:03, 61.80s/it]"
     ]
    },
    {
     "name": "stdout",
     "output_type": "stream",
     "text": [
      "999:\tlearn: 0.0845784\ttest: 0.0838673\tbest: 0.0838673 (999)\ttotal: 58.3s\tremaining: 0us\n",
      "\n",
      "bestTest = 0.08386725462\n",
      "bestIteration = 999\n",
      "\n",
      "0:\tlearn: 0.5180441\ttest: 0.5189812\tbest: 0.5189812 (0)\ttotal: 70.7ms\tremaining: 1m 10s\n",
      "50:\tlearn: 0.2017866\ttest: 0.2031869\tbest: 0.2031869 (50)\ttotal: 3.1s\tremaining: 57.7s\n",
      "100:\tlearn: 0.1303129\ttest: 0.1313867\tbest: 0.1313867 (100)\ttotal: 6.05s\tremaining: 53.8s\n",
      "150:\tlearn: 0.1084856\ttest: 0.1098465\tbest: 0.1098465 (150)\ttotal: 8.93s\tremaining: 50.2s\n",
      "200:\tlearn: 0.1006466\ttest: 0.1021956\tbest: 0.1021956 (200)\ttotal: 11.7s\tremaining: 46.6s\n",
      "250:\tlearn: 0.0965856\ttest: 0.0983041\tbest: 0.0983041 (250)\ttotal: 14.6s\tremaining: 43.5s\n",
      "300:\tlearn: 0.0942429\ttest: 0.0960655\tbest: 0.0960655 (300)\ttotal: 17.4s\tremaining: 40.4s\n",
      "350:\tlearn: 0.0925052\ttest: 0.0943727\tbest: 0.0943727 (350)\ttotal: 20.2s\tremaining: 37.4s\n",
      "400:\tlearn: 0.0911793\ttest: 0.0930702\tbest: 0.0930702 (400)\ttotal: 23.1s\tremaining: 34.5s\n",
      "450:\tlearn: 0.0900669\ttest: 0.0920078\tbest: 0.0920078 (450)\ttotal: 26s\tremaining: 31.6s\n",
      "500:\tlearn: 0.0891078\ttest: 0.0910668\tbest: 0.0910668 (500)\ttotal: 28.9s\tremaining: 28.8s\n",
      "550:\tlearn: 0.0882310\ttest: 0.0902059\tbest: 0.0902059 (550)\ttotal: 31.7s\tremaining: 25.8s\n",
      "600:\tlearn: 0.0874405\ttest: 0.0894438\tbest: 0.0894438 (600)\ttotal: 34.5s\tremaining: 22.9s\n",
      "650:\tlearn: 0.0868645\ttest: 0.0888780\tbest: 0.0888780 (650)\ttotal: 37.5s\tremaining: 20.1s\n",
      "700:\tlearn: 0.0863346\ttest: 0.0883769\tbest: 0.0883769 (700)\ttotal: 40.4s\tremaining: 17.2s\n",
      "750:\tlearn: 0.0858674\ttest: 0.0879376\tbest: 0.0879376 (750)\ttotal: 43.3s\tremaining: 14.4s\n",
      "800:\tlearn: 0.0854621\ttest: 0.0875577\tbest: 0.0875577 (800)\ttotal: 46.2s\tremaining: 11.5s\n",
      "850:\tlearn: 0.0850612\ttest: 0.0871869\tbest: 0.0871869 (850)\ttotal: 49.1s\tremaining: 8.6s\n",
      "900:\tlearn: 0.0847412\ttest: 0.0868897\tbest: 0.0868897 (900)\ttotal: 52s\tremaining: 5.71s\n",
      "950:\tlearn: 0.0844042\ttest: 0.0865890\tbest: 0.0865890 (950)\ttotal: 54.9s\tremaining: 2.83s\n"
     ]
    },
    {
     "name": "stderr",
     "output_type": "stream",
     "text": [
      "Processing folds:  80%|████████  | 4/5 [04:05<01:00, 60.38s/it]"
     ]
    },
    {
     "name": "stdout",
     "output_type": "stream",
     "text": [
      "999:\tlearn: 0.0841311\ttest: 0.0863479\tbest: 0.0863479 (999)\ttotal: 57.8s\tremaining: 0us\n",
      "\n",
      "bestTest = 0.08634787469\n",
      "bestIteration = 999\n",
      "\n",
      "0:\tlearn: 0.5174082\ttest: 0.5185326\tbest: 0.5185326 (0)\ttotal: 64.5ms\tremaining: 1m 4s\n",
      "50:\tlearn: 0.2015984\ttest: 0.2029351\tbest: 0.2029351 (50)\ttotal: 3.06s\tremaining: 56.9s\n",
      "100:\tlearn: 0.1302020\ttest: 0.1305415\tbest: 0.1305415 (100)\ttotal: 6.07s\tremaining: 54s\n",
      "150:\tlearn: 0.1088823\ttest: 0.1092674\tbest: 0.1092674 (150)\ttotal: 9.02s\tremaining: 50.7s\n",
      "200:\tlearn: 0.1012679\ttest: 0.1018364\tbest: 0.1018364 (200)\ttotal: 11.8s\tremaining: 47.1s\n",
      "250:\tlearn: 0.0972818\ttest: 0.0979094\tbest: 0.0979094 (250)\ttotal: 14.8s\tremaining: 44s\n",
      "300:\tlearn: 0.0947435\ttest: 0.0954559\tbest: 0.0954559 (300)\ttotal: 17.7s\tremaining: 41.2s\n",
      "350:\tlearn: 0.0930096\ttest: 0.0937878\tbest: 0.0937878 (350)\ttotal: 20.9s\tremaining: 38.7s\n",
      "400:\tlearn: 0.0916094\ttest: 0.0924362\tbest: 0.0924362 (400)\ttotal: 24.3s\tremaining: 36.3s\n",
      "450:\tlearn: 0.0904460\ttest: 0.0913245\tbest: 0.0913245 (450)\ttotal: 27.5s\tremaining: 33.5s\n",
      "500:\tlearn: 0.0894467\ttest: 0.0903799\tbest: 0.0903799 (500)\ttotal: 30.8s\tremaining: 30.7s\n",
      "550:\tlearn: 0.0886057\ttest: 0.0895788\tbest: 0.0895788 (550)\ttotal: 33.9s\tremaining: 27.7s\n",
      "600:\tlearn: 0.0879174\ttest: 0.0889419\tbest: 0.0889419 (600)\ttotal: 37s\tremaining: 24.5s\n",
      "650:\tlearn: 0.0873052\ttest: 0.0883797\tbest: 0.0883797 (650)\ttotal: 40s\tremaining: 21.4s\n",
      "700:\tlearn: 0.0867256\ttest: 0.0878526\tbest: 0.0878526 (700)\ttotal: 43.2s\tremaining: 18.4s\n",
      "750:\tlearn: 0.0862706\ttest: 0.0874449\tbest: 0.0874449 (750)\ttotal: 46.5s\tremaining: 15.4s\n",
      "800:\tlearn: 0.0858400\ttest: 0.0870641\tbest: 0.0870641 (800)\ttotal: 49.6s\tremaining: 12.3s\n",
      "850:\tlearn: 0.0854087\ttest: 0.0866810\tbest: 0.0866810 (850)\ttotal: 52.9s\tremaining: 9.26s\n",
      "900:\tlearn: 0.0850564\ttest: 0.0863701\tbest: 0.0863701 (900)\ttotal: 56.1s\tremaining: 6.16s\n",
      "950:\tlearn: 0.0847468\ttest: 0.0861033\tbest: 0.0861033 (950)\ttotal: 59.2s\tremaining: 3.05s\n"
     ]
    },
    {
     "name": "stderr",
     "output_type": "stream",
     "text": [
      "Processing folds: 100%|██████████| 5/5 [05:08<00:00, 61.61s/it]"
     ]
    },
    {
     "name": "stdout",
     "output_type": "stream",
     "text": [
      "999:\tlearn: 0.0844157\ttest: 0.0858191\tbest: 0.0858191 (999)\ttotal: 1m 2s\tremaining: 0us\n",
      "\n",
      "bestTest = 0.08581911622\n",
      "bestIteration = 999\n",
      "\n",
      "Validation : MAE scores for each fold: [0.08679326498008924, 0.08440088070533443, 0.0845492838451849, 0.08655091431932672, 0.08597985666247722]\n",
      "Validation : MAE: 0.0856548401024825\n"
     ]
    },
    {
     "name": "stderr",
     "output_type": "stream",
     "text": [
      "\n"
     ]
    }
   ],
   "source": [
    "cat_y2 = CatBoostRegressor(loss_function='MAE',\n",
    "                           cat_features=['X8'],  # Add categorical features index if any\n",
    "                           verbose=50\n",
    "                           )\n",
    "\n",
    "X_train_reduced = train.drop(columns=['Y1', 'Y2']).reset_index(drop=True)\n",
    "y_train = train['Y2'].reset_index(drop=True)\n",
    "\n",
    "kf = KFold(n_splits=5, shuffle=True, random_state=42)\n",
    "\n",
    "ensemble_predictions = []\n",
    "scores = []\n",
    "\n",
    "y_train = y_train.values\n",
    "\n",
    "for train_idx, val_idx in tqdm(kf.split(X_train_reduced), total=5, desc=\"Processing folds\"):\n",
    "    X_t, X_val = X_train_reduced.iloc[train_idx], X_train_reduced.iloc[val_idx]\n",
    "    y_t, y_val = y_train[train_idx], y_train[val_idx]\n",
    "\n",
    "    cat_y2.fit(X_t, y_t, eval_set=(X_val, y_val))\n",
    "\n",
    "    val_pred = cat_y2.predict(X_val)\n",
    "\n",
    "    scores.append(mean_absolute_error(y_val, val_pred))\n",
    "\n",
    "    cat_pred = cat_y2.predict(test)\n",
    "    cat_pred = np.where(cat_pred < 0, 0, cat_pred)\n",
    "\n",
    "    ensemble_predictions.append(cat_pred)\n",
    "\n",
    "final_predictions_y2 = np.mean(ensemble_predictions, axis=0)\n",
    "\n",
    "print(\"Validation : MAE scores for each fold:\", scores)\n",
    "print(\"Validation : MAE:\", np.mean(scores))"
   ]
  },
  {
   "cell_type": "markdown",
   "metadata": {},
   "source": [
    "## MLJAR"
   ]
  },
  {
   "cell_type": "code",
   "execution_count": null,
   "metadata": {},
   "outputs": [],
   "source": [
    "!pip install mljar-supervised"
   ]
  },
  {
   "cell_type": "code",
   "execution_count": null,
   "metadata": {},
   "outputs": [],
   "source": [
    "categorical_features = ['X8']\n",
    "encoders = {}\n",
    "\n",
    "for feature in tqdm(categorical_features, desc=\"Encoding features\"):\n",
    "    le = LabelEncoder()\n",
    "    train[feature] = le.fit_transform(train[feature].astype(str))\n",
    "    le_classes_set = set(le.classes_)\n",
    "    test[feature] = test[feature].map(lambda s: '-1' if s not in le_classes_set else s)\n",
    "    le_classes = le.classes_.tolist()\n",
    "    bisect.insort_left(le_classes, '-1')\n",
    "    le.classes_ = np.array(le_classes)\n",
    "    test[feature] = le.transform(test[feature].astype(str))\n",
    "    encoders[feature] = le"
   ]
  },
  {
   "cell_type": "code",
   "execution_count": null,
   "metadata": {},
   "outputs": [],
   "source": [
    "from supervised.automl import AutoML\n",
    "\n",
    "train_x1 = train.drop(['Y1', 'Y2'], axis=1)\n",
    "train_x2 = train.drop(['Y1', 'Y2'], axis=1)\n",
    "\n",
    "train_y1 = train['Y1']\n",
    "train_y2 = train['Y2']\n",
    "\n",
    "\n",
    "Cross_validation = {\n",
    "    \"validation_type\": \"kfold\",\n",
    "    \"k_folds\": 10,\n",
    "    \"shuffle\": True,\n",
    "    \"random_seed\": 112\n",
    "}"
   ]
  },
  {
   "cell_type": "code",
   "execution_count": null,
   "metadata": {},
   "outputs": [],
   "source": [
    "automl_y1 = AutoML(mode=\"Compete\", algorithms = ['Decision Tree', 'LightGBM', 'Xgboost', 'CatBoost'],\n",
    "                n_jobs = -1, eval_metric='mae', validation_strategy=Cross_validation, ml_task = \"regression\",\n",
    "                   total_time_limit = 1800 * 2 * 5)\n",
    "automl_y1.fit(train_x1, train_y1)"
   ]
  },
  {
   "cell_type": "code",
   "execution_count": null,
   "metadata": {},
   "outputs": [],
   "source": [
    "automl_y2 = AutoML(mode=\"Compete\", algorithms = ['Decision Tree', 'LightGBM', 'Xgboost', 'CatBoost'],\n",
    "                n_jobs = -1, eval_metric='mae', validation_strategy=Cross_validation, ml_task = \"regression\",\n",
    "                   total_time_limit=1800 * 2 * 5)\n",
    "automl_y2.fit(train_x2, train_y2)"
   ]
  },
  {
   "cell_type": "code",
   "execution_count": null,
   "metadata": {},
   "outputs": [],
   "source": [
    "pred_y1 = automl_y1.predict_all(test)\n",
    "pred_y2 = automl_y2.predict_all(test)"
   ]
  },
  {
   "cell_type": "code",
   "execution_count": null,
   "metadata": {},
   "outputs": [],
   "source": [
    "final_predictions = (np.expm1(pred_y1)) + (np.expm1(pred_y2))"
   ]
  },
  {
   "cell_type": "markdown",
   "metadata": {},
   "source": [
    "## 제출"
   ]
  },
  {
   "cell_type": "code",
   "execution_count": 25,
   "metadata": {},
   "outputs": [
    {
     "data": {
      "text/html": [
       "<div>\n",
       "<style scoped>\n",
       "    .dataframe tbody tr th:only-of-type {\n",
       "        vertical-align: middle;\n",
       "    }\n",
       "\n",
       "    .dataframe tbody tr th {\n",
       "        vertical-align: top;\n",
       "    }\n",
       "\n",
       "    .dataframe thead th {\n",
       "        text-align: right;\n",
       "    }\n",
       "</style>\n",
       "<table border=\"1\" class=\"dataframe\">\n",
       "  <thead>\n",
       "    <tr style=\"text-align: right;\">\n",
       "      <th></th>\n",
       "      <th>Id</th>\n",
       "      <th>Predicted</th>\n",
       "    </tr>\n",
       "  </thead>\n",
       "  <tbody>\n",
       "    <tr>\n",
       "      <th>0</th>\n",
       "      <td>0</td>\n",
       "      <td>0</td>\n",
       "    </tr>\n",
       "    <tr>\n",
       "      <th>1</th>\n",
       "      <td>1</td>\n",
       "      <td>0</td>\n",
       "    </tr>\n",
       "    <tr>\n",
       "      <th>2</th>\n",
       "      <td>2</td>\n",
       "      <td>0</td>\n",
       "    </tr>\n",
       "    <tr>\n",
       "      <th>3</th>\n",
       "      <td>3</td>\n",
       "      <td>0</td>\n",
       "    </tr>\n",
       "    <tr>\n",
       "      <th>4</th>\n",
       "      <td>4</td>\n",
       "      <td>0</td>\n",
       "    </tr>\n",
       "  </tbody>\n",
       "</table>\n",
       "</div>"
      ],
      "text/plain": [
       "   Id  Predicted\n",
       "0   0          0\n",
       "1   1          0\n",
       "2   2          0\n",
       "3   3          0\n",
       "4   4          0"
      ]
     },
     "execution_count": 25,
     "metadata": {},
     "output_type": "execute_result"
    }
   ],
   "source": [
    "submit = pd.read_csv(r'C:\\Users\\dlwks\\OneDrive\\바탕 화면\\VSCode\\HD_CNC\\sample_submission.csv')\n",
    "\n",
    "submit.head()"
   ]
  },
  {
   "cell_type": "code",
   "execution_count": 26,
   "metadata": {},
   "outputs": [
    {
     "data": {
      "text/html": [
       "<div>\n",
       "<style scoped>\n",
       "    .dataframe tbody tr th:only-of-type {\n",
       "        vertical-align: middle;\n",
       "    }\n",
       "\n",
       "    .dataframe tbody tr th {\n",
       "        vertical-align: top;\n",
       "    }\n",
       "\n",
       "    .dataframe thead th {\n",
       "        text-align: right;\n",
       "    }\n",
       "</style>\n",
       "<table border=\"1\" class=\"dataframe\">\n",
       "  <thead>\n",
       "    <tr style=\"text-align: right;\">\n",
       "      <th></th>\n",
       "      <th>Id</th>\n",
       "      <th>Predicted</th>\n",
       "    </tr>\n",
       "  </thead>\n",
       "  <tbody>\n",
       "    <tr>\n",
       "      <th>0</th>\n",
       "      <td>0</td>\n",
       "      <td>2846.524187</td>\n",
       "    </tr>\n",
       "    <tr>\n",
       "      <th>1</th>\n",
       "      <td>1</td>\n",
       "      <td>1679.177039</td>\n",
       "    </tr>\n",
       "    <tr>\n",
       "      <th>2</th>\n",
       "      <td>2</td>\n",
       "      <td>3177.269361</td>\n",
       "    </tr>\n",
       "    <tr>\n",
       "      <th>3</th>\n",
       "      <td>3</td>\n",
       "      <td>4109.579536</td>\n",
       "    </tr>\n",
       "    <tr>\n",
       "      <th>4</th>\n",
       "      <td>4</td>\n",
       "      <td>1357.320755</td>\n",
       "    </tr>\n",
       "    <tr>\n",
       "      <th>...</th>\n",
       "      <td>...</td>\n",
       "      <td>...</td>\n",
       "    </tr>\n",
       "    <tr>\n",
       "      <th>40566</th>\n",
       "      <td>40566</td>\n",
       "      <td>837.756102</td>\n",
       "    </tr>\n",
       "    <tr>\n",
       "      <th>40567</th>\n",
       "      <td>40567</td>\n",
       "      <td>1316.875178</td>\n",
       "    </tr>\n",
       "    <tr>\n",
       "      <th>40568</th>\n",
       "      <td>40568</td>\n",
       "      <td>2173.084496</td>\n",
       "    </tr>\n",
       "    <tr>\n",
       "      <th>40569</th>\n",
       "      <td>40569</td>\n",
       "      <td>1130.670104</td>\n",
       "    </tr>\n",
       "    <tr>\n",
       "      <th>40570</th>\n",
       "      <td>40570</td>\n",
       "      <td>1332.740415</td>\n",
       "    </tr>\n",
       "  </tbody>\n",
       "</table>\n",
       "<p>40571 rows × 2 columns</p>\n",
       "</div>"
      ],
      "text/plain": [
       "          Id    Predicted\n",
       "0          0  2846.524187\n",
       "1          1  1679.177039\n",
       "2          2  3177.269361\n",
       "3          3  4109.579536\n",
       "4          4  1357.320755\n",
       "...      ...          ...\n",
       "40566  40566   837.756102\n",
       "40567  40567  1316.875178\n",
       "40568  40568  2173.084496\n",
       "40569  40569  1130.670104\n",
       "40570  40570  1332.740415\n",
       "\n",
       "[40571 rows x 2 columns]"
      ]
     },
     "execution_count": 26,
     "metadata": {},
     "output_type": "execute_result"
    }
   ],
   "source": [
    "final_predictions = np.expm1(final_predictions_y1) + np.expm1(final_predictions_y2)\n",
    "\n",
    "\n",
    "submit.iloc[:, 1] = final_predictions\n",
    "\n",
    "submit"
   ]
  },
  {
   "cell_type": "code",
   "execution_count": 27,
   "metadata": {},
   "outputs": [],
   "source": [
    "submit.to_csv('C:\\\\Users\\\\dlwks\\\\OneDrive\\\\바탕 화면\\\\VSCode\\\\HD_CNC\\\\1125-4.csv', index=False)"
   ]
  },
  {
   "cell_type": "code",
   "execution_count": null,
   "metadata": {},
   "outputs": [],
   "source": []
  }
 ],
 "metadata": {
  "kernelspec": {
   "display_name": "Python 3",
   "language": "python",
   "name": "python3"
  },
  "language_info": {
   "codemirror_mode": {
    "name": "ipython",
    "version": 3
   },
   "file_extension": ".py",
   "mimetype": "text/x-python",
   "name": "python",
   "nbconvert_exporter": "python",
   "pygments_lexer": "ipython3",
   "version": "3.11.2"
  }
 },
 "nbformat": 4,
 "nbformat_minor": 2
}
