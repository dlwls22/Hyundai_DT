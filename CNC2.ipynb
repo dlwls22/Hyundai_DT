{
 "cells": [
  {
   "cell_type": "code",
   "execution_count": null,
   "metadata": {},
   "outputs": [],
   "source": [
    "import pandas as pd\n",
    "import numpy as np\n",
    "import matplotlib\n",
    "import matplotlib.pyplot as plt\n",
    "import seaborn as sns\n",
    "import missingno as ms\n",
    "import xgboost as xgb\n",
    "import bisect\n",
    "\n",
    "from scipy import stats\n",
    "from tqdm import tqdm\n",
    "from scipy.stats import skew, kurtosis\n",
    "from sklearn.preprocessing import StandardScaler, MinMaxScaler, LabelEncoder\n",
    "from sklearn.metrics import mean_absolute_error\n",
    "from sklearn.model_selection import train_test_split, KFold\n",
    "from sklearn.ensemble import RandomForestRegressor"
   ]
  },
  {
   "cell_type": "code",
   "execution_count": null,
   "metadata": {},
   "outputs": [],
   "source": [
    "train = pd.read_csv(r'C:\\Users\\dlwks\\OneDrive\\바탕 화면\\VSCode\\HD_CNC\\train.csv').drop(['X1'], axis=1)\n",
    "test = pd.read_csv(r'C:\\Users\\dlwks\\OneDrive\\바탕 화면\\VSCode\\HD_CNC\\test.csv').drop(['Id', 'X1'], axis=1)\n",
    "\n",
    "display(train.head())\n",
    "display(test.head())"
   ]
  },
  {
   "cell_type": "markdown",
   "metadata": {},
   "source": [
    "| 항목 | 설명     |\n",
    "|-----|----------|\n",
    "| X1  | 작업번호 |\n",
    "| X2  | 마킹길이 |\n",
    "| X3  | 절단길이 |\n",
    "| X4  | 철판두께 |\n",
    "| X5  | 철판재질 |\n",
    "| X6  | 절단갯수 |\n",
    "| X7  | 작업장   |\n",
    "| X8  | 작업자   |\n",
    "| Y1  | 마킹시간 |\n",
    "| Y2  | 절단시간 |"
   ]
  },
  {
   "cell_type": "code",
   "execution_count": null,
   "metadata": {},
   "outputs": [],
   "source": [
    "train.info()"
   ]
  },
  {
   "cell_type": "code",
   "execution_count": null,
   "metadata": {},
   "outputs": [],
   "source": [
    "train.describe()"
   ]
  },
  {
   "cell_type": "code",
   "execution_count": null,
   "metadata": {},
   "outputs": [],
   "source": [
    "train['X8'] = train['X8'].str.extract(r'(PL|PS)')\n",
    "test['X8'] = test['X8'].str.extract(r'(PL|PS)')"
   ]
  },
  {
   "cell_type": "code",
   "execution_count": null,
   "metadata": {},
   "outputs": [],
   "source": [
    "train['X8_encoded'] = (train['X8'] != 'PL').astype(int)\n",
    "test['X8_encoded'] = (test['X8'] != 'PL').astype(int)\n",
    "\n",
    "train = pd.get_dummies(train, columns=['X8_encoded'], prefix=['X8'])\n",
    "test = pd.get_dummies(test, columns=['X8_encoded'], prefix=['X8'])\n",
    "\n",
    "train[['X8_0', 'X8_1']] = train[['X8_0', 'X8_1']].astype(int)\n",
    "test[['X8_0', 'X8_1']] = test[['X8_0', 'X8_1']].astype(int)"
   ]
  },
  {
   "cell_type": "code",
   "execution_count": null,
   "metadata": {},
   "outputs": [],
   "source": [
    "train['X5'].unique()"
   ]
  },
  {
   "cell_type": "code",
   "execution_count": null,
   "metadata": {},
   "outputs": [],
   "source": [
    "import re\n",
    "\n",
    "def convert_x5(value):\n",
    "    # -TM 이 포함되어 있으면 제거하고 숫자로 변환, 그렇지 않으면 그냥 숫자로 변환\n",
    "    if '-TM' in value:\n",
    "        value = value.replace('-TM', '')\n",
    "    match = re.search(r'\\d+', value)  # 정규표현식을 사용하여 숫자 추출\n",
    "    if match:\n",
    "        return int(match.group()) * 9.8\n",
    "    else:\n",
    "        return 235  # 숫자가 없는 경우 235로 설정\n",
    "\n",
    "# X5 열에 변환 함수 적용\n",
    "train['X5_numeric'] = train['X5'].apply(convert_x5)\n",
    "test['X5_numeric'] = test['X5'].apply(convert_x5)"
   ]
  },
  {
   "cell_type": "code",
   "execution_count": null,
   "metadata": {},
   "outputs": [],
   "source": [
    "train['X5'].unique()"
   ]
  },
  {
   "cell_type": "code",
   "execution_count": null,
   "metadata": {},
   "outputs": [],
   "source": [
    "train['X5_numeric'].unique()"
   ]
  },
  {
   "cell_type": "code",
   "execution_count": null,
   "metadata": {},
   "outputs": [],
   "source": [
    "train_y1 = np.log1p(train['Y1'])\n",
    "train_y2 = np.log1p(train['Y2'])"
   ]
  },
  {
   "cell_type": "code",
   "execution_count": null,
   "metadata": {},
   "outputs": [],
   "source": [
    "from sklearn.cluster import DBSCAN\n",
    "from sklearn.preprocessing import StandardScaler\n",
    "\n",
    "selected_columns = ['X2', 'X3', 'X4', 'X6', 'X7']\n",
    "\n",
    "scaler = StandardScaler()\n",
    "\n",
    "train[selected_columns] = scaler.fit_transform(train[selected_columns])\n",
    "test[selected_columns] = scaler.transform(test[selected_columns])"
   ]
  },
  {
   "cell_type": "code",
   "execution_count": null,
   "metadata": {},
   "outputs": [],
   "source": [
    "# DBSCAN 모델 생성 및 적용\n",
    "dbscan = DBSCAN(eps=0.5, min_samples=5)\n",
    "train['cluster'] = dbscan.fit_predict(train[selected_columns])\n",
    "\n",
    "# 클러스터가 -1인 것은 이상치로 간주하고 제거\n",
    "filtered_train = train[train['cluster'] != -1].drop(columns=['cluster'])\n",
    "\n",
    "filtered_train"
   ]
  },
  {
   "cell_type": "code",
   "execution_count": null,
   "metadata": {},
   "outputs": [],
   "source": [
    "filtered_train.drop(columns = ['X5', 'X8'], inplace = True)"
   ]
  },
  {
   "cell_type": "code",
   "execution_count": null,
   "metadata": {},
   "outputs": [],
   "source": [
    "xgb_y1 = xgb.XGBRegressor(eval_metric='mae',\n",
    "                          enable_categorical=True \n",
    "                          )\n",
    "\n",
    "X_train_reduced = filtered_train.reset_index(drop=True)\n",
    "y_train = train_y1.reset_index(drop=True)\n",
    "\n",
    "kf = KFold(n_splits=5, shuffle=True, random_state=42)\n",
    "\n",
    "ensemble_predictions = []\n",
    "scores = []\n",
    "\n",
    "y_train = y_train.values\n",
    "\n",
    "for train_idx, val_idx in tqdm(kf.split(X_train_reduced), total=5, desc=\"Processing folds\"):\n",
    "    X_t, X_val = X_train_reduced.iloc[train_idx], X_train_reduced.iloc[val_idx]\n",
    "    y_t, y_val = y_train[train_idx], y_train[val_idx]\n",
    "\n",
    "    xgb_y1.fit(X_t, y_t, eval_set=[(X_val, y_val)], verbose=50)\n",
    "\n",
    "    val_pred = xgb_y1.predict(X_val)\n",
    "\n",
    "    scores.append(mean_absolute_error(y_val, val_pred))\n",
    "\n",
    "    test = test[X_train_reduced.columns]\n",
    "\n",
    "    xgb_pred = xgb_y1.predict(test)\n",
    "    xgb_pred = np.where(xgb_pred < 0, 0, xgb_pred)\n",
    "\n",
    "    ensemble_predictions.append(xgb_pred)\n",
    "\n",
    "final_predictions_y1 = np.mean(ensemble_predictions, axis=0)\n",
    "\n",
    "print(\"Validation : MAE scores for each fold:\", scores)\n",
    "print(\"Validation : MAE:\", np.mean(scores))"
   ]
  },
  {
   "cell_type": "code",
   "execution_count": null,
   "metadata": {},
   "outputs": [],
   "source": [
    "xgb_y2 = xgb.XGBRegressor(eval_metric='mae',\n",
    "                          enable_categorical=True \n",
    "                          )\n",
    "\n",
    "X_train_reduced = filtered_train.reset_index(drop=True)\n",
    "y_train = train_y2.reset_index(drop=True)\n",
    "\n",
    "kf = KFold(n_splits=5, shuffle=True, random_state=42)\n",
    "\n",
    "ensemble_predictions = []\n",
    "scores = []\n",
    "\n",
    "y_train = y_train.values\n",
    "\n",
    "for train_idx, val_idx in tqdm(kf.split(X_train_reduced), total=5, desc=\"Processing folds\"):\n",
    "    X_t, X_val = X_train_reduced.iloc[train_idx], X_train_reduced.iloc[val_idx]\n",
    "    y_t, y_val = y_train[train_idx], y_train[val_idx]\n",
    "\n",
    "    xgb_y2.fit(X_t, y_t, eval_set=[(X_val, y_val)], verbose=50)\n",
    "\n",
    "    val_pred = xgb_y2.predict(X_val)\n",
    "\n",
    "    scores.append(mean_absolute_error(y_val, val_pred))\n",
    "\n",
    "    xgb_pred = xgb_y2.predict(test)\n",
    "    xgb_pred = np.where(xgb_pred < 0, 0, xgb_pred)\n",
    "\n",
    "    ensemble_predictions.append(xgb_pred)\n",
    "\n",
    "final_predictions_y2 = np.mean(ensemble_predictions, axis=0)\n",
    "\n",
    "print(\"Validation : MAE scores for each fold:\", scores)\n",
    "print(\"Validation : MAE:\", np.mean(scores))"
   ]
  },
  {
   "cell_type": "code",
   "execution_count": null,
   "metadata": {},
   "outputs": [],
   "source": [
    "submit = pd.read_csv(r'C:\\Users\\dlwks\\OneDrive\\바탕 화면\\VSCode\\HD_CNC\\sample_submission.csv')\n",
    "\n",
    "submit.head()"
   ]
  },
  {
   "cell_type": "code",
   "execution_count": null,
   "metadata": {},
   "outputs": [],
   "source": [
    "final_predictions = (np.exp(final_predictions_y1) - 1) + (np.exp(final_predictions_y2) - 1)\n",
    "\n",
    "\n",
    "submit.iloc[:, 1] = final_predictions\n",
    "\n",
    "submit"
   ]
  },
  {
   "cell_type": "code",
   "execution_count": null,
   "metadata": {},
   "outputs": [],
   "source": [
    "submit.to_csv('C:\\\\Users\\\\dlwks\\\\OneDrive\\\\바탕 화면\\\\VSCode\\\\HD_CNC\\\\1115-1.csv', index=False)"
   ]
  },
  {
   "cell_type": "code",
   "execution_count": null,
   "metadata": {},
   "outputs": [],
   "source": [
    "# import matplotlib.pyplot as plt\n",
    "# import seaborn as sns\n",
    "# import pandas as pd\n",
    "\n",
    "# # Assuming your DataFrame is named 'train'\n",
    "# # If not, replace 'train' with the actual name of your DataFrame\n",
    "\n",
    "# # Set the style for Seaborn\n",
    "# sns.set(style=\"whitegrid\")\n",
    "\n",
    "# # Set up the matplotlib figure\n",
    "# fig, axes = plt.subplots(nrows=3, ncols=3, figsize=(15, 10))\n",
    "\n",
    "# # Flatten the axes for easier iteration\n",
    "# axes = axes.flatten()\n",
    "\n",
    "# # Loop through each column and plot the distribution\n",
    "# for i, column in enumerate(train.columns):\n",
    "#     sns.histplot(train[column], kde=True, ax=axes[i], bins=30)\n",
    "#     axes[i].set_title(f'Distribution of {column}')\n",
    "\n",
    "# # Adjust layout\n",
    "# plt.tight_layout()\n",
    "# plt.show()"
   ]
  },
  {
   "cell_type": "code",
   "execution_count": null,
   "metadata": {},
   "outputs": [],
   "source": [
    "mmtime = train.groupby('X5')['Y1'].mean()\n",
    "mctime = train.groupby('X5')['Y2'].mean()\n",
    "\n",
    "wmtime = train.groupby('X7')['Y1'].mean()\n",
    "wctime = train.groupby('X7')['Y2'].mean()\n",
    "\n",
    "manmtime = train.groupby('X8')['Y1'].mean()\n",
    "manctime = train.groupby('X8')['Y2'].mean()\n",
    "\n",
    "train['X5_mmtime'] = train['X5'].map(mmtime)\n",
    "train['X5_mctime'] = train['X5'].map(mctime)\n",
    "\n",
    "train['X7_wmtime'] = train['X7'].map(wmtime)\n",
    "train['X7_wctime'] = train['X7'].map(wctime)\n",
    "\n",
    "train['X8_manmtime'] = train['X8'].map(manmtime)\n",
    "train['X8_manctime'] = train['X8'].map(manctime)\n",
    "\n",
    "test['X5_mmtime'] = test['X5'].map(mmtime)\n",
    "test['X5_mctime'] = test['X5'].map(mctime)\n",
    "\n",
    "test['X7_wmtime'] = test['X7'].map(wmtime)\n",
    "test['X7_wctime'] = test['X7'].map(wctime)\n",
    "\n",
    "test['X8_manmtime'] = test['X8'].map(manmtime)\n",
    "test['X8_manctime'] = test['X8'].map(manctime)"
   ]
  },
  {
   "cell_type": "code",
   "execution_count": null,
   "metadata": {},
   "outputs": [],
   "source": [
    "bins = [0, 15, 40, 70, 95, 110, float('inf')]\n",
    "\n",
    "labels = [0, 1, 2, 3, 4, 5]\n",
    "\n",
    "train['X6_category'] = pd.cut(train['X6'], bins = bins, labels = labels, include_lowest = True)\n",
    "test['X6_category'] = pd.cut(test['X6'], bins = bins, labels = labels, include_lowest = True)\n",
    "\n",
    "train.drop(columns = ['X6'], inplace = True)\n",
    "test.drop(columns = ['X6'], inplace = True)\n",
    "\n",
    "sns.scatterplot(x=train['X2'], y=train['X3'], hue = train['X6_category'].astype('category'))"
   ]
  },
  {
   "cell_type": "code",
   "execution_count": null,
   "metadata": {},
   "outputs": [],
   "source": [
    "train"
   ]
  },
  {
   "cell_type": "code",
   "execution_count": null,
   "metadata": {},
   "outputs": [],
   "source": []
  },
  {
   "cell_type": "code",
   "execution_count": null,
   "metadata": {},
   "outputs": [],
   "source": []
  }
 ],
 "metadata": {
  "kernelspec": {
   "display_name": "Python 3",
   "language": "python",
   "name": "python3"
  },
  "language_info": {
   "codemirror_mode": {
    "name": "ipython",
    "version": 3
   },
   "file_extension": ".py",
   "mimetype": "text/x-python",
   "name": "python",
   "nbconvert_exporter": "python",
   "pygments_lexer": "ipython3",
   "version": "3.11.2"
  }
 },
 "nbformat": 4,
 "nbformat_minor": 2
}
