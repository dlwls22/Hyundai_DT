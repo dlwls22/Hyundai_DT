{
 "cells": [
  {
   "cell_type": "code",
   "execution_count": null,
   "metadata": {},
   "outputs": [],
   "source": [
    "import pandas as pd\n",
    "import numpy as np\n",
    "import matplotlib\n",
    "import matplotlib.pyplot as plt\n",
    "import seaborn as sns\n",
    "import missingno as ms\n",
    "import xgboost as xgb\n",
    "import bisect\n",
    "\n",
    "from scipy import stats\n",
    "from tqdm import tqdm\n",
    "from scipy.stats import skew, kurtosis\n",
    "from sklearn.preprocessing import StandardScaler, MinMaxScaler, LabelEncoder\n",
    "from sklearn.metrics import mean_absolute_error\n",
    "from sklearn.model_selection import train_test_split, KFold\n",
    "from catboost import CatBoostRegressor\n",
    "from sklearn.ensemble import VotingRegressor\n",
    "from sklearn.ensemble import RandomForestRegressor\n",
    "from sklearn.cluster import DBSCAN"
   ]
  },
  {
   "cell_type": "code",
   "execution_count": null,
   "metadata": {},
   "outputs": [],
   "source": [
    "train = pd.read_csv(r'C:\\Users\\dlwks\\OneDrive\\바탕 화면\\VSCode\\HD_CNC\\train.csv').drop(['X1'], axis = 1)\n",
    "test = pd.read_csv(r'C:\\Users\\dlwks\\OneDrive\\바탕 화면\\VSCode\\HD_CNC\\test.csv').drop(['Id', 'X1'], axis = 1)\n",
    "\n",
    "display(train.head())\n",
    "display(test.head())"
   ]
  },
  {
   "cell_type": "markdown",
   "metadata": {},
   "source": [
    "| 항목 | 설명     |\n",
    "|-----|----------|\n",
    "| X1  | 작업번호 |\n",
    "| X2  | 마킹길이 |\n",
    "| X3  | 절단길이 |\n",
    "| X4  | 철판두께 |\n",
    "| X5  | 철판재질 |\n",
    "| X6  | 절단갯수 |\n",
    "| X7  | 작업장   |\n",
    "| X8  | 작업자   |\n",
    "| Y1  | 마킹시간 |\n",
    "| Y2  | 절단시간 |"
   ]
  },
  {
   "cell_type": "code",
   "execution_count": null,
   "metadata": {},
   "outputs": [],
   "source": [
    "train.info()"
   ]
  },
  {
   "cell_type": "code",
   "execution_count": null,
   "metadata": {},
   "outputs": [],
   "source": [
    "train.describe()"
   ]
  },
  {
   "cell_type": "markdown",
   "metadata": {},
   "source": [
    "# 특징 만들기\n"
   ]
  },
  {
   "cell_type": "code",
   "execution_count": null,
   "metadata": {},
   "outputs": [],
   "source": [
    "mmtime = train.groupby('X5')['Y1'].mean()\n",
    "mctime = train.groupby('X5')['Y2'].mean()\n",
    "\n",
    "wmtime = train.groupby('X7')['Y1'].mean()\n",
    "wctime = train.groupby('X7')['Y2'].mean()\n",
    "\n",
    "manmtime = train.groupby('X8')['Y1'].mean()\n",
    "manctime = train.groupby('X8')['Y2'].mean()\n",
    "\n",
    "train['X5_mmtime'] = train['X5'].map(mmtime)\n",
    "train['X5_mctime'] = train['X5'].map(mctime)\n",
    "\n",
    "train['X7_wmtime'] = train['X7'].map(wmtime)\n",
    "train['X7_wctime'] = train['X7'].map(wctime)\n",
    "\n",
    "train['X8_manmtime'] = train['X8'].map(manmtime)\n",
    "train['X8_manctime'] = train['X8'].map(manctime)\n",
    "\n",
    "test['X5_mmtime'] = test['X5'].map(mmtime)\n",
    "test['X5_mctime'] = test['X5'].map(mctime)\n",
    "\n",
    "test['X7_wmtime'] = test['X7'].map(wmtime)\n",
    "test['X7_wctime'] = test['X7'].map(wctime)\n",
    "\n",
    "test['X8_manmtime'] = test['X8'].map(manmtime)\n",
    "test['X8_manctime'] = test['X8'].map(manctime)"
   ]
  },
  {
   "cell_type": "code",
   "execution_count": null,
   "metadata": {},
   "outputs": [],
   "source": [
    "import re\n",
    "\n",
    "def convert_x5(value):\n",
    "    # -TM 이 포함되어 있으면 제거하고 숫자로 변환, 그렇지 않으면 그냥 숫자로 변환\n",
    "    if '-TM' in value:\n",
    "        value = value.replace('-TM', '')\n",
    "    match = re.search(r'\\d+', value)  # 정규표현식을 사용하여 숫자 추출\n",
    "    if match:\n",
    "        return int(match.group()) * 9.8\n",
    "    else:\n",
    "        return 235  # 숫자가 없는 경우 235로 설정\n",
    "\n",
    "# X5 열에 변환 함수 적용\n",
    "train['X5_numeric'] = train['X5'].apply(convert_x5)\n",
    "test['X5_numeric'] = test['X5'].apply(convert_x5)\n",
    "\n",
    "train.drop(columns = ['X5'], inplace = True)\n",
    "test.drop(columns = ['X5'], inplace = True)"
   ]
  },
  {
   "cell_type": "code",
   "execution_count": null,
   "metadata": {},
   "outputs": [],
   "source": [
    "train['X2/X3'] = train['X2'] / train['X3']\n",
    "test['X2/X3'] = test['X2'] / test['X3']"
   ]
  },
  {
   "cell_type": "code",
   "execution_count": null,
   "metadata": {},
   "outputs": [],
   "source": [
    "train['SPT'] = train['X5_numeric'] / train['X4']\n",
    "test['SPT'] = test['X5_numeric'] / test['X4']"
   ]
  },
  {
   "cell_type": "code",
   "execution_count": null,
   "metadata": {},
   "outputs": [],
   "source": [
    "train['SPTCC'] = train['SPT'] * train['X6']\n",
    "test['SPTCC'] = test['SPT'] * test['X6']"
   ]
  },
  {
   "cell_type": "code",
   "execution_count": null,
   "metadata": {},
   "outputs": [],
   "source": [
    "X2_idx = train[(train['X2'] > 440)].index # 440\n",
    "X3_idx = train[(train['X3'] > 550)].index # 550\n",
    "X4_idx = train[(train['X4'] > 36)].index\n",
    "X6_idx = train[(train['X6'] > 250)].index # 250\n",
    "Y1_idx = train[(train['Y1'] == 0) | (train['Y1'] > 70000)].index\n",
    "Y2_idx = train[(train['Y2'] == 0) | (train['Y2'] > 70000)].index\n",
    "\n",
    "train.loc[X2_idx, 'X2'] = train.loc[(train ['X2'] >= 500), 'X2'].mean()\n",
    "train.loc[X3_idx, 'X3'] = train.loc[(train ['X3'] >= 600), 'X3'].mean()\n",
    "train.loc[X4_idx, 'X4'] = train.loc[(train ['X4'] >= 36), 'X4'].mean()\n",
    "train.loc[X6_idx, 'X6'] = train.loc[(train ['X6'] >= 265), 'X6'].mean()\n",
    "train.loc[Y1_idx, 'Y1'] = train.loc[(train['Y1'] != 0) & (train['Y1'] <= 70000), 'Y1'].mean()\n",
    "train.loc[Y2_idx, 'Y2'] = train.loc[(train['Y2'] != 0) & (train['Y2'] <= 70000), 'Y2'].mean()"
   ]
  },
  {
   "cell_type": "code",
   "execution_count": null,
   "metadata": {},
   "outputs": [],
   "source": [
    "# train['Y3'] = train['Y1'] + train['Y2']\n",
    "# Q1_Y3 = train['Y3'].quantile(0.25)\n",
    "# Q3_Y3 = train['Y3'].quantile(0.75)\n",
    "\n",
    "# IQR_Y3 = Q3_Y3 - Q1_Y3\n",
    "\n",
    "# lower_bound_Y3 = Q1_Y3 - 1.5 * IQR_Y3\n",
    "# upper_bound_Y3 = Q3_Y3 + 1.5 * IQR_Y3\n",
    "\n",
    "# train = train[(train['Y3'] >= lower_bound_Y3) & (train['Y3'] <= upper_bound_Y3)]\n",
    "\n",
    "# train.drop(columns = 'Y3', inplace = True)\n",
    "# train"
   ]
  },
  {
   "cell_type": "code",
   "execution_count": null,
   "metadata": {},
   "outputs": [],
   "source": [
    "mttrain = train[['X2','X3','X8','Y1']]\n",
    "\n",
    "mtdrop = mttrain[mttrain['Y1'] == 0].index\n",
    "mttrain.drop(mtdrop, inplace = True)\n",
    "\n",
    "mttest = test[['X2','X3','X8']]"
   ]
  },
  {
   "cell_type": "code",
   "execution_count": null,
   "metadata": {},
   "outputs": [],
   "source": [
    "scaler = MinMaxScaler()\n",
    "\n",
    "mtscale = mttrain.copy()\n",
    "mtscale[['X2','X3','Y1']] = scaler.fit_transform(mttrain[['X2','X3','Y1']])"
   ]
  },
  {
   "cell_type": "code",
   "execution_count": null,
   "metadata": {},
   "outputs": [],
   "source": [
    "X2 = mtscale[['X2','Y1']].values\n",
    "dbscan = DBSCAN(eps=0.01, min_samples=10).fit(X2)\n",
    "mtscale['clusterX2'] = dbscan.fit_predict(mtscale[['X2','Y1']])\n",
    "labels = dbscan.labels_\n",
    "print(pd.Series(labels).value_counts())"
   ]
  },
  {
   "cell_type": "code",
   "execution_count": null,
   "metadata": {},
   "outputs": [],
   "source": [
    "idx_X2 = mtscale[mtscale['clusterX2'] == -1].index"
   ]
  },
  {
   "cell_type": "code",
   "execution_count": null,
   "metadata": {},
   "outputs": [],
   "source": [
    "X3 = mtscale[['X3','Y1']].values\n",
    "dbscan = DBSCAN(eps=0.01, min_samples=10).fit(X3)\n",
    "mtscale['clusterX3'] = dbscan.fit_predict(mtscale[['X3','Y1']])\n",
    "labels = dbscan.labels_\n",
    "print(pd.Series(labels).value_counts())"
   ]
  },
  {
   "cell_type": "code",
   "execution_count": null,
   "metadata": {},
   "outputs": [],
   "source": [
    "idx_X3 = mtscale[mtscale['clusterX3'] == -1].index"
   ]
  },
  {
   "cell_type": "code",
   "execution_count": null,
   "metadata": {},
   "outputs": [],
   "source": [
    "idx = idx_X2.append(idx_X3)\n",
    "idx = set(idx)\n",
    "mttrain.drop(idx , inplace=True)"
   ]
  },
  {
   "cell_type": "code",
   "execution_count": null,
   "metadata": {},
   "outputs": [],
   "source": [
    "cttrain = train[['X3','X4', 'X5_mctime','X8_manctime','Y2']]\n",
    "\n",
    "ctdrop = cttrain[cttrain['Y2'] == 0].index\n",
    "cttrain.drop(mtdrop, inplace = True)\n",
    "\n",
    "cttest = test[['X3','X4', 'X5_mctime','X8_manctime']]"
   ]
  },
  {
   "cell_type": "code",
   "execution_count": null,
   "metadata": {},
   "outputs": [],
   "source": [
    "scaler = MinMaxScaler()\n",
    "\n",
    "ctscale = cttrain.copy()\n",
    "ctscale[['X3','Y2']] = scaler.fit_transform(cttrain[['X3','Y2']])"
   ]
  },
  {
   "cell_type": "code",
   "execution_count": null,
   "metadata": {},
   "outputs": [],
   "source": [
    "X = ctscale[['X3','Y2']].values\n",
    "dbscan = DBSCAN(eps=0.01, min_samples=15).fit(X)\n",
    "ctscale['cluster'] = dbscan.fit_predict(ctscale[['X3','Y2']])\n",
    "labels = dbscan.labels_\n",
    "print(pd.Series(labels).value_counts())"
   ]
  },
  {
   "cell_type": "code",
   "execution_count": null,
   "metadata": {},
   "outputs": [],
   "source": [
    "idx = ctscale[ctscale['cluster'] == -1].index\n",
    "cttrain.drop(idx , inplace=True)"
   ]
  },
  {
   "cell_type": "code",
   "execution_count": null,
   "metadata": {},
   "outputs": [],
   "source": [
    "train['Y1'] = np.log1p(train['Y1'])\n",
    "train['Y2'] = np.log1p(train['Y2'])"
   ]
  },
  {
   "cell_type": "code",
   "execution_count": null,
   "metadata": {},
   "outputs": [],
   "source": [
    "display(train['Y1'].hist(bins = 100))\n",
    "display(train['Y2'].hist(bins = 100))"
   ]
  },
  {
   "cell_type": "markdown",
   "metadata": {},
   "source": [
    "## CatBoost"
   ]
  },
  {
   "cell_type": "code",
   "execution_count": null,
   "metadata": {},
   "outputs": [],
   "source": [
    "cat_y1 = CatBoostRegressor(loss_function='MAE',\n",
    "                           cat_features=['X8'], \n",
    "                           verbose=50\n",
    "                           )\n",
    "\n",
    "X_train_reduced = train.drop(columns=['Y1', 'Y2']).reset_index(drop=True)\n",
    "y_train = train['Y1'].reset_index(drop=True)\n",
    "\n",
    "kf = KFold(n_splits=5, shuffle=True, random_state=42)\n",
    "\n",
    "ensemble_predictions = []\n",
    "scores = []\n",
    "\n",
    "y_train = y_train.values\n",
    "\n",
    "for train_idx, val_idx in tqdm(kf.split(X_train_reduced), total=5, desc=\"Processing folds\"):\n",
    "    X_t, X_val = X_train_reduced.iloc[train_idx], X_train_reduced.iloc[val_idx]\n",
    "    y_t, y_val = y_train[train_idx], y_train[val_idx]\n",
    "\n",
    "    cat_y1.fit(X_t, y_t, eval_set=(X_val, y_val))\n",
    "\n",
    "    val_pred = cat_y1.predict(X_val)\n",
    "\n",
    "    scores.append(mean_absolute_error(y_val, val_pred))\n",
    "\n",
    "    test = test[X_train_reduced.columns]\n",
    "\n",
    "    cat_pred = cat_y1.predict(test)\n",
    "    cat_pred = np.where(cat_pred < 0, 0, cat_pred)\n",
    "\n",
    "    ensemble_predictions.append(cat_pred)\n",
    "\n",
    "final_predictions_y1 = np.mean(ensemble_predictions, axis=0)\n",
    "\n",
    "print(\"Validation : MAE scores for each fold:\", scores)\n",
    "print(\"Validation : MAE:\", np.mean(scores))"
   ]
  },
  {
   "cell_type": "code",
   "execution_count": null,
   "metadata": {},
   "outputs": [],
   "source": [
    "cat_y2 = CatBoostRegressor(loss_function='MAE',\n",
    "                           cat_features=['X8'], \n",
    "                           verbose=50\n",
    "                           )\n",
    "\n",
    "X_train_reduced = train.drop(columns=['Y1', 'Y2']).reset_index(drop=True)\n",
    "y_train = train['Y2'].reset_index(drop=True)\n",
    "\n",
    "kf = KFold(n_splits=5, shuffle=True, random_state=42)\n",
    "\n",
    "ensemble_predictions = []\n",
    "scores = []\n",
    "\n",
    "y_train = y_train.values\n",
    "\n",
    "for train_idx, val_idx in tqdm(kf.split(X_train_reduced), total=5, desc=\"Processing folds\"):\n",
    "    X_t, X_val = X_train_reduced.iloc[train_idx], X_train_reduced.iloc[val_idx]\n",
    "    y_t, y_val = y_train[train_idx], y_train[val_idx]\n",
    "\n",
    "    cat_y2.fit(X_t, y_t, eval_set=(X_val, y_val))\n",
    "\n",
    "    val_pred = cat_y2.predict(X_val)\n",
    "\n",
    "    scores.append(mean_absolute_error(y_val, val_pred))\n",
    "\n",
    "    cat_pred = cat_y2.predict(test)\n",
    "    cat_pred = np.where(cat_pred < 0, 0, cat_pred)\n",
    "\n",
    "    ensemble_predictions.append(cat_pred)\n",
    "\n",
    "final_predictions_y2 = np.mean(ensemble_predictions, axis=0)\n",
    "\n",
    "print(\"Validation : MAE scores for each fold:\", scores)\n",
    "print(\"Validation : MAE:\", np.mean(scores))"
   ]
  },
  {
   "cell_type": "markdown",
   "metadata": {},
   "source": [
    "## MLJAR"
   ]
  },
  {
   "cell_type": "code",
   "execution_count": null,
   "metadata": {},
   "outputs": [],
   "source": [
    "!pip install mljar-supervised"
   ]
  },
  {
   "cell_type": "code",
   "execution_count": null,
   "metadata": {},
   "outputs": [],
   "source": [
    "categorical_features = ['X8']\n",
    "encoders = {}\n",
    "\n",
    "for feature in tqdm(categorical_features, desc=\"Encoding features\"):\n",
    "    le = LabelEncoder()\n",
    "    train[feature] = le.fit_transform(train[feature].astype(str))\n",
    "    le_classes_set = set(le.classes_)\n",
    "    test[feature] = test[feature].map(lambda s: '-1' if s not in le_classes_set else s)\n",
    "    le_classes = le.classes_.tolist()\n",
    "    bisect.insort_left(le_classes, '-1')\n",
    "    le.classes_ = np.array(le_classes)\n",
    "    test[feature] = le.transform(test[feature].astype(str))\n",
    "    encoders[feature] = le"
   ]
  },
  {
   "cell_type": "code",
   "execution_count": null,
   "metadata": {},
   "outputs": [],
   "source": [
    "from supervised.automl import AutoML\n",
    "\n",
    "train_x1 = train.drop(['Y1', 'Y2'], axis=1)\n",
    "train_x2 = train.drop(['Y1', 'Y2'], axis=1)\n",
    "\n",
    "train_y1 = train['Y1']\n",
    "train_y2 = train['Y2']\n",
    "\n",
    "\n",
    "Cross_validation = {\n",
    "    \"validation_type\": \"kfold\",\n",
    "    \"k_folds\": 10,\n",
    "    \"shuffle\": True,\n",
    "    \"random_seed\": 112\n",
    "}"
   ]
  },
  {
   "cell_type": "code",
   "execution_count": null,
   "metadata": {},
   "outputs": [],
   "source": [
    "automl_y1 = AutoML(mode=\"Compete\", algorithms = ['Decision Tree', 'LightGBM', 'Xgboost', 'CatBoost'],\n",
    "                n_jobs = -1, eval_metric='mae', validation_strategy=Cross_validation, ml_task = \"regression\",\n",
    "                   total_time_limit = 1800 * 2 * 5)\n",
    "automl_y1.fit(train_x1, train_y1)"
   ]
  },
  {
   "cell_type": "code",
   "execution_count": null,
   "metadata": {},
   "outputs": [],
   "source": [
    "automl_y2 = AutoML(mode=\"Compete\", algorithms = ['Decision Tree', 'LightGBM', 'Xgboost', 'CatBoost'],\n",
    "                n_jobs = -1, eval_metric='mae', validation_strategy=Cross_validation, ml_task = \"regression\",\n",
    "                   total_time_limit=1800 * 2 * 5)\n",
    "automl_y2.fit(train_x2, train_y2)"
   ]
  },
  {
   "cell_type": "code",
   "execution_count": null,
   "metadata": {},
   "outputs": [],
   "source": [
    "pred_y1 = automl_y1.predict_all(test)\n",
    "pred_y2 = automl_y2.predict_all(test)"
   ]
  },
  {
   "cell_type": "code",
   "execution_count": null,
   "metadata": {},
   "outputs": [],
   "source": [
    "final_predictions = (np.expm1(pred_y1)) + (np.expm1(pred_y2))"
   ]
  },
  {
   "cell_type": "markdown",
   "metadata": {},
   "source": [
    "## 제출"
   ]
  },
  {
   "cell_type": "code",
   "execution_count": null,
   "metadata": {},
   "outputs": [],
   "source": [
    "submit = pd.read_csv(r'C:\\Users\\dlwks\\OneDrive\\바탕 화면\\VSCode\\HD_CNC\\sample_submission.csv')\n",
    "\n",
    "submit.head()"
   ]
  },
  {
   "cell_type": "code",
   "execution_count": null,
   "metadata": {},
   "outputs": [],
   "source": [
    "final_predictions = np.expm1(final_predictions_y1) + np.expm1(final_predictions_y2)\n",
    "\n",
    "submit.iloc[:, 1] = final_predictions\n",
    "\n",
    "submit"
   ]
  },
  {
   "cell_type": "code",
   "execution_count": null,
   "metadata": {},
   "outputs": [],
   "source": [
    "submit.to_csv('C:\\\\Users\\\\dlwks\\\\OneDrive\\\\바탕 화면\\\\VSCode\\\\HD_CNC\\\\1129-1.csv', index=False)"
   ]
  }
 ],
 "metadata": {
  "kernelspec": {
   "display_name": "Python 3",
   "language": "python",
   "name": "python3"
  },
  "language_info": {
   "codemirror_mode": {
    "name": "ipython",
    "version": 3
   },
   "file_extension": ".py",
   "mimetype": "text/x-python",
   "name": "python",
   "nbconvert_exporter": "python",
   "pygments_lexer": "ipython3",
   "version": "3.11.2"
  }
 },
 "nbformat": 4,
 "nbformat_minor": 2
}
